{
 "cells": [
  {
   "cell_type": "code",
   "execution_count": 1,
   "id": "7f69d4da",
   "metadata": {},
   "outputs": [],
   "source": [
    "import pandas as pd\n",
    "import numpy as np\n",
    "import matplotlib.pyplot as plt\n",
    "%matplotlib inline\n",
    "import seaborn as sns\n",
    "import statsmodels.api as sm\n",
    "from sklearn.preprocessing import StandardScaler\n",
    "from sklearn.model_selection import train_test_split\n",
    "from sklearn import metrics\n",
    "from sklearn.metrics import classification_report \n",
    "from sklearn.metrics import cohen_kappa_score \n",
    "from sklearn.metrics import confusion_matrix\n",
    "from sklearn.model_selection import GridSearchCV\n",
    "from  sklearn.metrics import roc_curve\n",
    "from  sklearn import linear_model\n",
    "from  sklearn.svm import SVC\n",
    "pd.options.display.max_columns= None\n",
    "pd.options.display.max_rows= None\n",
    "np.set_printoptions(suppress=True)\n",
    "plt.rcParams['figure.figsize']=[15,8]\n",
    "pd.set_option(\"display.float_format\", lambda x: \"%.6f\" %x)"
   ]
  },
  {
   "cell_type": "code",
   "execution_count": 2,
   "id": "8ee2ceb9",
   "metadata": {},
   "outputs": [
    {
     "data": {
      "text/html": [
       "<div>\n",
       "<style scoped>\n",
       "    .dataframe tbody tr th:only-of-type {\n",
       "        vertical-align: middle;\n",
       "    }\n",
       "\n",
       "    .dataframe tbody tr th {\n",
       "        vertical-align: top;\n",
       "    }\n",
       "\n",
       "    .dataframe thead th {\n",
       "        text-align: right;\n",
       "    }\n",
       "</style>\n",
       "<table border=\"1\" class=\"dataframe\">\n",
       "  <thead>\n",
       "    <tr style=\"text-align: right;\">\n",
       "      <th></th>\n",
       "      <th>age</th>\n",
       "      <th>job</th>\n",
       "      <th>marital</th>\n",
       "      <th>education</th>\n",
       "      <th>default</th>\n",
       "      <th>housing</th>\n",
       "      <th>loan</th>\n",
       "      <th>contact</th>\n",
       "      <th>month</th>\n",
       "      <th>day_of_week</th>\n",
       "      <th>duration</th>\n",
       "      <th>campaign</th>\n",
       "      <th>pdays</th>\n",
       "      <th>previous</th>\n",
       "      <th>poutcome</th>\n",
       "      <th>emp.var.rate</th>\n",
       "      <th>cons.price.idx</th>\n",
       "      <th>cons.conf.idx</th>\n",
       "      <th>euribor3m</th>\n",
       "      <th>nr.employed</th>\n",
       "      <th>y</th>\n",
       "    </tr>\n",
       "  </thead>\n",
       "  <tbody>\n",
       "    <tr>\n",
       "      <th>0</th>\n",
       "      <td>56</td>\n",
       "      <td>housemaid</td>\n",
       "      <td>married</td>\n",
       "      <td>basic.4y</td>\n",
       "      <td>no</td>\n",
       "      <td>no</td>\n",
       "      <td>no</td>\n",
       "      <td>telephone</td>\n",
       "      <td>may</td>\n",
       "      <td>mon</td>\n",
       "      <td>261</td>\n",
       "      <td>1</td>\n",
       "      <td>999</td>\n",
       "      <td>0</td>\n",
       "      <td>nonexistent</td>\n",
       "      <td>1.100000</td>\n",
       "      <td>93.994000</td>\n",
       "      <td>-36.400000</td>\n",
       "      <td>4.857000</td>\n",
       "      <td>5191.000000</td>\n",
       "      <td>no</td>\n",
       "    </tr>\n",
       "    <tr>\n",
       "      <th>1</th>\n",
       "      <td>57</td>\n",
       "      <td>services</td>\n",
       "      <td>married</td>\n",
       "      <td>high.school</td>\n",
       "      <td>unknown</td>\n",
       "      <td>no</td>\n",
       "      <td>no</td>\n",
       "      <td>telephone</td>\n",
       "      <td>may</td>\n",
       "      <td>mon</td>\n",
       "      <td>149</td>\n",
       "      <td>1</td>\n",
       "      <td>999</td>\n",
       "      <td>0</td>\n",
       "      <td>nonexistent</td>\n",
       "      <td>1.100000</td>\n",
       "      <td>93.994000</td>\n",
       "      <td>-36.400000</td>\n",
       "      <td>4.857000</td>\n",
       "      <td>5191.000000</td>\n",
       "      <td>no</td>\n",
       "    </tr>\n",
       "    <tr>\n",
       "      <th>2</th>\n",
       "      <td>37</td>\n",
       "      <td>services</td>\n",
       "      <td>married</td>\n",
       "      <td>high.school</td>\n",
       "      <td>no</td>\n",
       "      <td>yes</td>\n",
       "      <td>no</td>\n",
       "      <td>telephone</td>\n",
       "      <td>may</td>\n",
       "      <td>mon</td>\n",
       "      <td>226</td>\n",
       "      <td>1</td>\n",
       "      <td>999</td>\n",
       "      <td>0</td>\n",
       "      <td>nonexistent</td>\n",
       "      <td>1.100000</td>\n",
       "      <td>93.994000</td>\n",
       "      <td>-36.400000</td>\n",
       "      <td>4.857000</td>\n",
       "      <td>5191.000000</td>\n",
       "      <td>no</td>\n",
       "    </tr>\n",
       "    <tr>\n",
       "      <th>3</th>\n",
       "      <td>40</td>\n",
       "      <td>admin.</td>\n",
       "      <td>married</td>\n",
       "      <td>basic.6y</td>\n",
       "      <td>no</td>\n",
       "      <td>no</td>\n",
       "      <td>no</td>\n",
       "      <td>telephone</td>\n",
       "      <td>may</td>\n",
       "      <td>mon</td>\n",
       "      <td>151</td>\n",
       "      <td>1</td>\n",
       "      <td>999</td>\n",
       "      <td>0</td>\n",
       "      <td>nonexistent</td>\n",
       "      <td>1.100000</td>\n",
       "      <td>93.994000</td>\n",
       "      <td>-36.400000</td>\n",
       "      <td>4.857000</td>\n",
       "      <td>5191.000000</td>\n",
       "      <td>no</td>\n",
       "    </tr>\n",
       "    <tr>\n",
       "      <th>4</th>\n",
       "      <td>56</td>\n",
       "      <td>services</td>\n",
       "      <td>married</td>\n",
       "      <td>high.school</td>\n",
       "      <td>no</td>\n",
       "      <td>no</td>\n",
       "      <td>yes</td>\n",
       "      <td>telephone</td>\n",
       "      <td>may</td>\n",
       "      <td>mon</td>\n",
       "      <td>307</td>\n",
       "      <td>1</td>\n",
       "      <td>999</td>\n",
       "      <td>0</td>\n",
       "      <td>nonexistent</td>\n",
       "      <td>1.100000</td>\n",
       "      <td>93.994000</td>\n",
       "      <td>-36.400000</td>\n",
       "      <td>4.857000</td>\n",
       "      <td>5191.000000</td>\n",
       "      <td>no</td>\n",
       "    </tr>\n",
       "  </tbody>\n",
       "</table>\n",
       "</div>"
      ],
      "text/plain": [
       "   age        job  marital    education  default housing loan    contact  \\\n",
       "0   56  housemaid  married     basic.4y       no      no   no  telephone   \n",
       "1   57   services  married  high.school  unknown      no   no  telephone   \n",
       "2   37   services  married  high.school       no     yes   no  telephone   \n",
       "3   40     admin.  married     basic.6y       no      no   no  telephone   \n",
       "4   56   services  married  high.school       no      no  yes  telephone   \n",
       "\n",
       "  month day_of_week  duration  campaign  pdays  previous     poutcome  \\\n",
       "0   may         mon       261         1    999         0  nonexistent   \n",
       "1   may         mon       149         1    999         0  nonexistent   \n",
       "2   may         mon       226         1    999         0  nonexistent   \n",
       "3   may         mon       151         1    999         0  nonexistent   \n",
       "4   may         mon       307         1    999         0  nonexistent   \n",
       "\n",
       "   emp.var.rate  cons.price.idx  cons.conf.idx  euribor3m  nr.employed   y  \n",
       "0      1.100000       93.994000     -36.400000   4.857000  5191.000000  no  \n",
       "1      1.100000       93.994000     -36.400000   4.857000  5191.000000  no  \n",
       "2      1.100000       93.994000     -36.400000   4.857000  5191.000000  no  \n",
       "3      1.100000       93.994000     -36.400000   4.857000  5191.000000  no  \n",
       "4      1.100000       93.994000     -36.400000   4.857000  5191.000000  no  "
      ]
     },
     "execution_count": 2,
     "metadata": {},
     "output_type": "execute_result"
    }
   ],
   "source": [
    "deposit= pd.read_csv(r\"D:\\ml\\svm\\bank-additional-full.csv\" ,sep=\";\")\n",
    "deposit.head()"
   ]
  },
  {
   "cell_type": "code",
   "execution_count": 3,
   "id": "d2a18d1e",
   "metadata": {},
   "outputs": [
    {
     "name": "stdout",
     "output_type": "stream",
     "text": [
      "<class 'pandas.core.frame.DataFrame'>\n",
      "RangeIndex: 41188 entries, 0 to 41187\n",
      "Data columns (total 21 columns):\n",
      " #   Column          Non-Null Count  Dtype  \n",
      "---  ------          --------------  -----  \n",
      " 0   age             41188 non-null  int64  \n",
      " 1   job             41188 non-null  object \n",
      " 2   marital         41188 non-null  object \n",
      " 3   education       41188 non-null  object \n",
      " 4   default         41188 non-null  object \n",
      " 5   housing         41188 non-null  object \n",
      " 6   loan            41188 non-null  object \n",
      " 7   contact         41188 non-null  object \n",
      " 8   month           41188 non-null  object \n",
      " 9   day_of_week     41188 non-null  object \n",
      " 10  duration        41188 non-null  int64  \n",
      " 11  campaign        41188 non-null  int64  \n",
      " 12  pdays           41188 non-null  int64  \n",
      " 13  previous        41188 non-null  int64  \n",
      " 14  poutcome        41188 non-null  object \n",
      " 15  emp.var.rate    41188 non-null  float64\n",
      " 16  cons.price.idx  41188 non-null  float64\n",
      " 17  cons.conf.idx   41188 non-null  float64\n",
      " 18  euribor3m       41188 non-null  float64\n",
      " 19  nr.employed     41188 non-null  float64\n",
      " 20  y               41188 non-null  object \n",
      "dtypes: float64(5), int64(5), object(11)\n",
      "memory usage: 6.6+ MB\n"
     ]
    }
   ],
   "source": [
    "deposit.info()"
   ]
  },
  {
   "cell_type": "code",
   "execution_count": 4,
   "id": "683bfe34",
   "metadata": {},
   "outputs": [
    {
     "name": "stdout",
     "output_type": "stream",
     "text": [
      "(41188, 21)\n"
     ]
    }
   ],
   "source": [
    "print(deposit.shape)"
   ]
  },
  {
   "cell_type": "code",
   "execution_count": 5,
   "id": "0ea72b0a",
   "metadata": {},
   "outputs": [
    {
     "name": "stdout",
     "output_type": "stream",
     "text": [
      "total people:41188\n",
      "yes:4640\n",
      "no:36548\n"
     ]
    }
   ],
   "source": [
    "print(\"total people:{}\" .format(deposit.shape[0]))\n",
    "print(\"yes:{}\".format(deposit[deposit.y==\"yes\"].shape[0]))\n",
    "print(\"no:{}\".format(deposit[deposit.y==\"no\"].shape[0]))"
   ]
  },
  {
   "cell_type": "code",
   "execution_count": 6,
   "id": "9215f67a",
   "metadata": {},
   "outputs": [
    {
     "data": {
      "text/html": [
       "<div>\n",
       "<style scoped>\n",
       "    .dataframe tbody tr th:only-of-type {\n",
       "        vertical-align: middle;\n",
       "    }\n",
       "\n",
       "    .dataframe tbody tr th {\n",
       "        vertical-align: top;\n",
       "    }\n",
       "\n",
       "    .dataframe thead th {\n",
       "        text-align: right;\n",
       "    }\n",
       "</style>\n",
       "<table border=\"1\" class=\"dataframe\">\n",
       "  <thead>\n",
       "    <tr style=\"text-align: right;\">\n",
       "      <th></th>\n",
       "      <th>age</th>\n",
       "      <th>duration</th>\n",
       "      <th>campaign</th>\n",
       "      <th>pdays</th>\n",
       "      <th>previous</th>\n",
       "      <th>emp.var.rate</th>\n",
       "      <th>cons.price.idx</th>\n",
       "      <th>cons.conf.idx</th>\n",
       "      <th>euribor3m</th>\n",
       "      <th>nr.employed</th>\n",
       "    </tr>\n",
       "  </thead>\n",
       "  <tbody>\n",
       "    <tr>\n",
       "      <th>count</th>\n",
       "      <td>41188.000000</td>\n",
       "      <td>41188.000000</td>\n",
       "      <td>41188.000000</td>\n",
       "      <td>41188.000000</td>\n",
       "      <td>41188.000000</td>\n",
       "      <td>41188.000000</td>\n",
       "      <td>41188.000000</td>\n",
       "      <td>41188.000000</td>\n",
       "      <td>41188.000000</td>\n",
       "      <td>41188.000000</td>\n",
       "    </tr>\n",
       "    <tr>\n",
       "      <th>mean</th>\n",
       "      <td>40.024060</td>\n",
       "      <td>258.285010</td>\n",
       "      <td>2.567593</td>\n",
       "      <td>962.475454</td>\n",
       "      <td>0.172963</td>\n",
       "      <td>0.081886</td>\n",
       "      <td>93.575664</td>\n",
       "      <td>-40.502600</td>\n",
       "      <td>3.621291</td>\n",
       "      <td>5167.035911</td>\n",
       "    </tr>\n",
       "    <tr>\n",
       "      <th>std</th>\n",
       "      <td>10.421250</td>\n",
       "      <td>259.279249</td>\n",
       "      <td>2.770014</td>\n",
       "      <td>186.910907</td>\n",
       "      <td>0.494901</td>\n",
       "      <td>1.570960</td>\n",
       "      <td>0.578840</td>\n",
       "      <td>4.628198</td>\n",
       "      <td>1.734447</td>\n",
       "      <td>72.251528</td>\n",
       "    </tr>\n",
       "    <tr>\n",
       "      <th>min</th>\n",
       "      <td>17.000000</td>\n",
       "      <td>0.000000</td>\n",
       "      <td>1.000000</td>\n",
       "      <td>0.000000</td>\n",
       "      <td>0.000000</td>\n",
       "      <td>-3.400000</td>\n",
       "      <td>92.201000</td>\n",
       "      <td>-50.800000</td>\n",
       "      <td>0.634000</td>\n",
       "      <td>4963.600000</td>\n",
       "    </tr>\n",
       "    <tr>\n",
       "      <th>25%</th>\n",
       "      <td>32.000000</td>\n",
       "      <td>102.000000</td>\n",
       "      <td>1.000000</td>\n",
       "      <td>999.000000</td>\n",
       "      <td>0.000000</td>\n",
       "      <td>-1.800000</td>\n",
       "      <td>93.075000</td>\n",
       "      <td>-42.700000</td>\n",
       "      <td>1.344000</td>\n",
       "      <td>5099.100000</td>\n",
       "    </tr>\n",
       "    <tr>\n",
       "      <th>50%</th>\n",
       "      <td>38.000000</td>\n",
       "      <td>180.000000</td>\n",
       "      <td>2.000000</td>\n",
       "      <td>999.000000</td>\n",
       "      <td>0.000000</td>\n",
       "      <td>1.100000</td>\n",
       "      <td>93.749000</td>\n",
       "      <td>-41.800000</td>\n",
       "      <td>4.857000</td>\n",
       "      <td>5191.000000</td>\n",
       "    </tr>\n",
       "    <tr>\n",
       "      <th>75%</th>\n",
       "      <td>47.000000</td>\n",
       "      <td>319.000000</td>\n",
       "      <td>3.000000</td>\n",
       "      <td>999.000000</td>\n",
       "      <td>0.000000</td>\n",
       "      <td>1.400000</td>\n",
       "      <td>93.994000</td>\n",
       "      <td>-36.400000</td>\n",
       "      <td>4.961000</td>\n",
       "      <td>5228.100000</td>\n",
       "    </tr>\n",
       "    <tr>\n",
       "      <th>max</th>\n",
       "      <td>98.000000</td>\n",
       "      <td>4918.000000</td>\n",
       "      <td>56.000000</td>\n",
       "      <td>999.000000</td>\n",
       "      <td>7.000000</td>\n",
       "      <td>1.400000</td>\n",
       "      <td>94.767000</td>\n",
       "      <td>-26.900000</td>\n",
       "      <td>5.045000</td>\n",
       "      <td>5228.100000</td>\n",
       "    </tr>\n",
       "  </tbody>\n",
       "</table>\n",
       "</div>"
      ],
      "text/plain": [
       "               age     duration     campaign        pdays     previous  \\\n",
       "count 41188.000000 41188.000000 41188.000000 41188.000000 41188.000000   \n",
       "mean     40.024060   258.285010     2.567593   962.475454     0.172963   \n",
       "std      10.421250   259.279249     2.770014   186.910907     0.494901   \n",
       "min      17.000000     0.000000     1.000000     0.000000     0.000000   \n",
       "25%      32.000000   102.000000     1.000000   999.000000     0.000000   \n",
       "50%      38.000000   180.000000     2.000000   999.000000     0.000000   \n",
       "75%      47.000000   319.000000     3.000000   999.000000     0.000000   \n",
       "max      98.000000  4918.000000    56.000000   999.000000     7.000000   \n",
       "\n",
       "       emp.var.rate  cons.price.idx  cons.conf.idx    euribor3m  nr.employed  \n",
       "count  41188.000000    41188.000000   41188.000000 41188.000000 41188.000000  \n",
       "mean       0.081886       93.575664     -40.502600     3.621291  5167.035911  \n",
       "std        1.570960        0.578840       4.628198     1.734447    72.251528  \n",
       "min       -3.400000       92.201000     -50.800000     0.634000  4963.600000  \n",
       "25%       -1.800000       93.075000     -42.700000     1.344000  5099.100000  \n",
       "50%        1.100000       93.749000     -41.800000     4.857000  5191.000000  \n",
       "75%        1.400000       93.994000     -36.400000     4.961000  5228.100000  \n",
       "max        1.400000       94.767000     -26.900000     5.045000  5228.100000  "
      ]
     },
     "execution_count": 6,
     "metadata": {},
     "output_type": "execute_result"
    }
   ],
   "source": [
    "deposit.describe()"
   ]
  },
  {
   "cell_type": "code",
   "execution_count": 7,
   "id": "4b53ac88",
   "metadata": {},
   "outputs": [
    {
     "data": {
      "text/html": [
       "<div>\n",
       "<style scoped>\n",
       "    .dataframe tbody tr th:only-of-type {\n",
       "        vertical-align: middle;\n",
       "    }\n",
       "\n",
       "    .dataframe tbody tr th {\n",
       "        vertical-align: top;\n",
       "    }\n",
       "\n",
       "    .dataframe thead th {\n",
       "        text-align: right;\n",
       "    }\n",
       "</style>\n",
       "<table border=\"1\" class=\"dataframe\">\n",
       "  <thead>\n",
       "    <tr style=\"text-align: right;\">\n",
       "      <th></th>\n",
       "      <th>job</th>\n",
       "      <th>marital</th>\n",
       "      <th>education</th>\n",
       "      <th>default</th>\n",
       "      <th>housing</th>\n",
       "      <th>loan</th>\n",
       "      <th>contact</th>\n",
       "      <th>month</th>\n",
       "      <th>day_of_week</th>\n",
       "      <th>poutcome</th>\n",
       "      <th>y</th>\n",
       "    </tr>\n",
       "  </thead>\n",
       "  <tbody>\n",
       "    <tr>\n",
       "      <th>count</th>\n",
       "      <td>41188</td>\n",
       "      <td>41188</td>\n",
       "      <td>41188</td>\n",
       "      <td>41188</td>\n",
       "      <td>41188</td>\n",
       "      <td>41188</td>\n",
       "      <td>41188</td>\n",
       "      <td>41188</td>\n",
       "      <td>41188</td>\n",
       "      <td>41188</td>\n",
       "      <td>41188</td>\n",
       "    </tr>\n",
       "    <tr>\n",
       "      <th>unique</th>\n",
       "      <td>12</td>\n",
       "      <td>4</td>\n",
       "      <td>8</td>\n",
       "      <td>3</td>\n",
       "      <td>3</td>\n",
       "      <td>3</td>\n",
       "      <td>2</td>\n",
       "      <td>10</td>\n",
       "      <td>5</td>\n",
       "      <td>3</td>\n",
       "      <td>2</td>\n",
       "    </tr>\n",
       "    <tr>\n",
       "      <th>top</th>\n",
       "      <td>admin.</td>\n",
       "      <td>married</td>\n",
       "      <td>university.degree</td>\n",
       "      <td>no</td>\n",
       "      <td>yes</td>\n",
       "      <td>no</td>\n",
       "      <td>cellular</td>\n",
       "      <td>may</td>\n",
       "      <td>thu</td>\n",
       "      <td>nonexistent</td>\n",
       "      <td>no</td>\n",
       "    </tr>\n",
       "    <tr>\n",
       "      <th>freq</th>\n",
       "      <td>10422</td>\n",
       "      <td>24928</td>\n",
       "      <td>12168</td>\n",
       "      <td>32588</td>\n",
       "      <td>21576</td>\n",
       "      <td>33950</td>\n",
       "      <td>26144</td>\n",
       "      <td>13769</td>\n",
       "      <td>8623</td>\n",
       "      <td>35563</td>\n",
       "      <td>36548</td>\n",
       "    </tr>\n",
       "  </tbody>\n",
       "</table>\n",
       "</div>"
      ],
      "text/plain": [
       "           job  marital          education default housing   loan   contact  \\\n",
       "count    41188    41188              41188   41188   41188  41188     41188   \n",
       "unique      12        4                  8       3       3      3         2   \n",
       "top     admin.  married  university.degree      no     yes     no  cellular   \n",
       "freq     10422    24928              12168   32588   21576  33950     26144   \n",
       "\n",
       "        month day_of_week     poutcome      y  \n",
       "count   41188       41188        41188  41188  \n",
       "unique     10           5            3      2  \n",
       "top       may         thu  nonexistent     no  \n",
       "freq    13769        8623        35563  36548  "
      ]
     },
     "execution_count": 7,
     "metadata": {},
     "output_type": "execute_result"
    }
   ],
   "source": [
    "deposit.describe(include=\"object\")"
   ]
  },
  {
   "cell_type": "code",
   "execution_count": 8,
   "id": "c7265254",
   "metadata": {},
   "outputs": [
    {
     "data": {
      "text/html": [
       "<div>\n",
       "<style scoped>\n",
       "    .dataframe tbody tr th:only-of-type {\n",
       "        vertical-align: middle;\n",
       "    }\n",
       "\n",
       "    .dataframe tbody tr th {\n",
       "        vertical-align: top;\n",
       "    }\n",
       "\n",
       "    .dataframe thead th {\n",
       "        text-align: right;\n",
       "    }\n",
       "</style>\n",
       "<table border=\"1\" class=\"dataframe\">\n",
       "  <thead>\n",
       "    <tr style=\"text-align: right;\">\n",
       "      <th></th>\n",
       "      <th>age</th>\n",
       "      <th>job</th>\n",
       "      <th>marital</th>\n",
       "      <th>education</th>\n",
       "      <th>default</th>\n",
       "      <th>housing</th>\n",
       "      <th>loan</th>\n",
       "      <th>contact</th>\n",
       "      <th>month</th>\n",
       "      <th>day_of_week</th>\n",
       "      <th>duration</th>\n",
       "      <th>campaign</th>\n",
       "      <th>pdays</th>\n",
       "      <th>previous</th>\n",
       "      <th>poutcome</th>\n",
       "      <th>emp.var.rate</th>\n",
       "      <th>cons.price.idx</th>\n",
       "      <th>cons.conf.idx</th>\n",
       "      <th>euribor3m</th>\n",
       "      <th>nr.employed</th>\n",
       "      <th>y</th>\n",
       "    </tr>\n",
       "  </thead>\n",
       "  <tbody>\n",
       "    <tr>\n",
       "      <th>0</th>\n",
       "      <td>56</td>\n",
       "      <td>housemaid</td>\n",
       "      <td>married</td>\n",
       "      <td>basic.4y</td>\n",
       "      <td>no</td>\n",
       "      <td>no</td>\n",
       "      <td>no</td>\n",
       "      <td>telephone</td>\n",
       "      <td>may</td>\n",
       "      <td>mon</td>\n",
       "      <td>261</td>\n",
       "      <td>1</td>\n",
       "      <td>999</td>\n",
       "      <td>0</td>\n",
       "      <td>nonexistent</td>\n",
       "      <td>1.100000</td>\n",
       "      <td>93.994000</td>\n",
       "      <td>-36.400000</td>\n",
       "      <td>4.857000</td>\n",
       "      <td>5191.000000</td>\n",
       "      <td>0</td>\n",
       "    </tr>\n",
       "    <tr>\n",
       "      <th>1</th>\n",
       "      <td>57</td>\n",
       "      <td>services</td>\n",
       "      <td>married</td>\n",
       "      <td>high.school</td>\n",
       "      <td>unknown</td>\n",
       "      <td>no</td>\n",
       "      <td>no</td>\n",
       "      <td>telephone</td>\n",
       "      <td>may</td>\n",
       "      <td>mon</td>\n",
       "      <td>149</td>\n",
       "      <td>1</td>\n",
       "      <td>999</td>\n",
       "      <td>0</td>\n",
       "      <td>nonexistent</td>\n",
       "      <td>1.100000</td>\n",
       "      <td>93.994000</td>\n",
       "      <td>-36.400000</td>\n",
       "      <td>4.857000</td>\n",
       "      <td>5191.000000</td>\n",
       "      <td>0</td>\n",
       "    </tr>\n",
       "    <tr>\n",
       "      <th>2</th>\n",
       "      <td>37</td>\n",
       "      <td>services</td>\n",
       "      <td>married</td>\n",
       "      <td>high.school</td>\n",
       "      <td>no</td>\n",
       "      <td>yes</td>\n",
       "      <td>no</td>\n",
       "      <td>telephone</td>\n",
       "      <td>may</td>\n",
       "      <td>mon</td>\n",
       "      <td>226</td>\n",
       "      <td>1</td>\n",
       "      <td>999</td>\n",
       "      <td>0</td>\n",
       "      <td>nonexistent</td>\n",
       "      <td>1.100000</td>\n",
       "      <td>93.994000</td>\n",
       "      <td>-36.400000</td>\n",
       "      <td>4.857000</td>\n",
       "      <td>5191.000000</td>\n",
       "      <td>0</td>\n",
       "    </tr>\n",
       "    <tr>\n",
       "      <th>3</th>\n",
       "      <td>40</td>\n",
       "      <td>admin.</td>\n",
       "      <td>married</td>\n",
       "      <td>basic.6y</td>\n",
       "      <td>no</td>\n",
       "      <td>no</td>\n",
       "      <td>no</td>\n",
       "      <td>telephone</td>\n",
       "      <td>may</td>\n",
       "      <td>mon</td>\n",
       "      <td>151</td>\n",
       "      <td>1</td>\n",
       "      <td>999</td>\n",
       "      <td>0</td>\n",
       "      <td>nonexistent</td>\n",
       "      <td>1.100000</td>\n",
       "      <td>93.994000</td>\n",
       "      <td>-36.400000</td>\n",
       "      <td>4.857000</td>\n",
       "      <td>5191.000000</td>\n",
       "      <td>0</td>\n",
       "    </tr>\n",
       "    <tr>\n",
       "      <th>4</th>\n",
       "      <td>56</td>\n",
       "      <td>services</td>\n",
       "      <td>married</td>\n",
       "      <td>high.school</td>\n",
       "      <td>no</td>\n",
       "      <td>no</td>\n",
       "      <td>yes</td>\n",
       "      <td>telephone</td>\n",
       "      <td>may</td>\n",
       "      <td>mon</td>\n",
       "      <td>307</td>\n",
       "      <td>1</td>\n",
       "      <td>999</td>\n",
       "      <td>0</td>\n",
       "      <td>nonexistent</td>\n",
       "      <td>1.100000</td>\n",
       "      <td>93.994000</td>\n",
       "      <td>-36.400000</td>\n",
       "      <td>4.857000</td>\n",
       "      <td>5191.000000</td>\n",
       "      <td>0</td>\n",
       "    </tr>\n",
       "  </tbody>\n",
       "</table>\n",
       "</div>"
      ],
      "text/plain": [
       "   age        job  marital    education  default housing loan    contact  \\\n",
       "0   56  housemaid  married     basic.4y       no      no   no  telephone   \n",
       "1   57   services  married  high.school  unknown      no   no  telephone   \n",
       "2   37   services  married  high.school       no     yes   no  telephone   \n",
       "3   40     admin.  married     basic.6y       no      no   no  telephone   \n",
       "4   56   services  married  high.school       no      no  yes  telephone   \n",
       "\n",
       "  month day_of_week  duration  campaign  pdays  previous     poutcome  \\\n",
       "0   may         mon       261         1    999         0  nonexistent   \n",
       "1   may         mon       149         1    999         0  nonexistent   \n",
       "2   may         mon       226         1    999         0  nonexistent   \n",
       "3   may         mon       151         1    999         0  nonexistent   \n",
       "4   may         mon       307         1    999         0  nonexistent   \n",
       "\n",
       "   emp.var.rate  cons.price.idx  cons.conf.idx  euribor3m  nr.employed  y  \n",
       "0      1.100000       93.994000     -36.400000   4.857000  5191.000000  0  \n",
       "1      1.100000       93.994000     -36.400000   4.857000  5191.000000  0  \n",
       "2      1.100000       93.994000     -36.400000   4.857000  5191.000000  0  \n",
       "3      1.100000       93.994000     -36.400000   4.857000  5191.000000  0  \n",
       "4      1.100000       93.994000     -36.400000   4.857000  5191.000000  0  "
      ]
     },
     "execution_count": 8,
     "metadata": {},
     "output_type": "execute_result"
    }
   ],
   "source": [
    "deposit[\"y\"]= deposit['y'].replace('no',0)\n",
    "deposit['y']= deposit['y'].replace('yes',1)\n",
    "deposit.head()"
   ]
  },
  {
   "cell_type": "code",
   "execution_count": 9,
   "id": "c8eff674",
   "metadata": {},
   "outputs": [],
   "source": [
    "categ=[col for col in deposit.columns.values if deposit[col].dtype==\"object\"]\n",
    "data_cat = deposit[categ]\n",
    "data_num = deposit.drop(categ , axis=1)"
   ]
  },
  {
   "cell_type": "code",
   "execution_count": 10,
   "id": "d3507413",
   "metadata": {},
   "outputs": [],
   "source": [
    "data_catdum= pd.get_dummies(data_cat,drop_first=True)\n"
   ]
  },
  {
   "cell_type": "code",
   "execution_count": 11,
   "id": "86226cca",
   "metadata": {},
   "outputs": [
    {
     "data": {
      "text/plain": [
       "(41188, 54)"
      ]
     },
     "execution_count": 11,
     "metadata": {},
     "output_type": "execute_result"
    }
   ],
   "source": [
    "deposit=pd.concat([data_num, data_catdum],axis=1)\n",
    "deposit.shape"
   ]
  },
  {
   "cell_type": "code",
   "execution_count": 12,
   "id": "a1e429e2",
   "metadata": {},
   "outputs": [
    {
     "name": "stdout",
     "output_type": "stream",
     "text": [
      "age                              0\n",
      "duration                         0\n",
      "campaign                         0\n",
      "pdays                            0\n",
      "previous                         0\n",
      "emp.var.rate                     0\n",
      "cons.price.idx                   0\n",
      "cons.conf.idx                    0\n",
      "euribor3m                        0\n",
      "nr.employed                      0\n",
      "y                                0\n",
      "job_blue-collar                  0\n",
      "job_entrepreneur                 0\n",
      "job_housemaid                    0\n",
      "job_management                   0\n",
      "job_retired                      0\n",
      "job_self-employed                0\n",
      "job_services                     0\n",
      "job_student                      0\n",
      "job_technician                   0\n",
      "job_unemployed                   0\n",
      "job_unknown                      0\n",
      "marital_married                  0\n",
      "marital_single                   0\n",
      "marital_unknown                  0\n",
      "education_basic.6y               0\n",
      "education_basic.9y               0\n",
      "education_high.school            0\n",
      "education_illiterate             0\n",
      "education_professional.course    0\n",
      "education_university.degree      0\n",
      "education_unknown                0\n",
      "default_unknown                  0\n",
      "default_yes                      0\n",
      "housing_unknown                  0\n",
      "housing_yes                      0\n",
      "loan_unknown                     0\n",
      "loan_yes                         0\n",
      "contact_telephone                0\n",
      "month_aug                        0\n",
      "month_dec                        0\n",
      "month_jul                        0\n",
      "month_jun                        0\n",
      "month_mar                        0\n",
      "month_may                        0\n",
      "month_nov                        0\n",
      "month_oct                        0\n",
      "month_sep                        0\n",
      "day_of_week_mon                  0\n",
      "day_of_week_thu                  0\n",
      "day_of_week_tue                  0\n",
      "day_of_week_wed                  0\n",
      "poutcome_nonexistent             0\n",
      "poutcome_success                 0\n",
      "dtype: int64\n"
     ]
    }
   ],
   "source": [
    "missing = deposit.isnull().sum()\n",
    "print(missing)"
   ]
  },
  {
   "cell_type": "code",
   "execution_count": 13,
   "id": "0b77845f",
   "metadata": {},
   "outputs": [
    {
     "data": {
      "text/html": [
       "<div>\n",
       "<style scoped>\n",
       "    .dataframe tbody tr th:only-of-type {\n",
       "        vertical-align: middle;\n",
       "    }\n",
       "\n",
       "    .dataframe tbody tr th {\n",
       "        vertical-align: top;\n",
       "    }\n",
       "\n",
       "    .dataframe thead th {\n",
       "        text-align: right;\n",
       "    }\n",
       "</style>\n",
       "<table border=\"1\" class=\"dataframe\">\n",
       "  <thead>\n",
       "    <tr style=\"text-align: right;\">\n",
       "      <th></th>\n",
       "      <th>age</th>\n",
       "      <th>duration</th>\n",
       "      <th>campaign</th>\n",
       "      <th>pdays</th>\n",
       "      <th>previous</th>\n",
       "      <th>emp.var.rate</th>\n",
       "      <th>cons.price.idx</th>\n",
       "      <th>cons.conf.idx</th>\n",
       "      <th>euribor3m</th>\n",
       "      <th>nr.employed</th>\n",
       "    </tr>\n",
       "  </thead>\n",
       "  <tbody>\n",
       "    <tr>\n",
       "      <th>age</th>\n",
       "      <td>1.000000</td>\n",
       "      <td>-0.000866</td>\n",
       "      <td>0.004594</td>\n",
       "      <td>-0.034369</td>\n",
       "      <td>0.024365</td>\n",
       "      <td>-0.000371</td>\n",
       "      <td>0.000857</td>\n",
       "      <td>0.129372</td>\n",
       "      <td>0.010767</td>\n",
       "      <td>-0.017725</td>\n",
       "    </tr>\n",
       "    <tr>\n",
       "      <th>duration</th>\n",
       "      <td>-0.000866</td>\n",
       "      <td>1.000000</td>\n",
       "      <td>-0.071699</td>\n",
       "      <td>-0.047577</td>\n",
       "      <td>0.020640</td>\n",
       "      <td>-0.027968</td>\n",
       "      <td>0.005312</td>\n",
       "      <td>-0.008173</td>\n",
       "      <td>-0.032897</td>\n",
       "      <td>-0.044703</td>\n",
       "    </tr>\n",
       "    <tr>\n",
       "      <th>campaign</th>\n",
       "      <td>0.004594</td>\n",
       "      <td>-0.071699</td>\n",
       "      <td>1.000000</td>\n",
       "      <td>0.052584</td>\n",
       "      <td>-0.079141</td>\n",
       "      <td>0.150754</td>\n",
       "      <td>0.127836</td>\n",
       "      <td>-0.013733</td>\n",
       "      <td>0.135133</td>\n",
       "      <td>0.144095</td>\n",
       "    </tr>\n",
       "    <tr>\n",
       "      <th>pdays</th>\n",
       "      <td>-0.034369</td>\n",
       "      <td>-0.047577</td>\n",
       "      <td>0.052584</td>\n",
       "      <td>1.000000</td>\n",
       "      <td>-0.587514</td>\n",
       "      <td>0.271004</td>\n",
       "      <td>0.078889</td>\n",
       "      <td>-0.091342</td>\n",
       "      <td>0.296899</td>\n",
       "      <td>0.372605</td>\n",
       "    </tr>\n",
       "    <tr>\n",
       "      <th>previous</th>\n",
       "      <td>0.024365</td>\n",
       "      <td>0.020640</td>\n",
       "      <td>-0.079141</td>\n",
       "      <td>-0.587514</td>\n",
       "      <td>1.000000</td>\n",
       "      <td>-0.420489</td>\n",
       "      <td>-0.203130</td>\n",
       "      <td>-0.050936</td>\n",
       "      <td>-0.454494</td>\n",
       "      <td>-0.501333</td>\n",
       "    </tr>\n",
       "    <tr>\n",
       "      <th>emp.var.rate</th>\n",
       "      <td>-0.000371</td>\n",
       "      <td>-0.027968</td>\n",
       "      <td>0.150754</td>\n",
       "      <td>0.271004</td>\n",
       "      <td>-0.420489</td>\n",
       "      <td>1.000000</td>\n",
       "      <td>0.775334</td>\n",
       "      <td>0.196041</td>\n",
       "      <td>0.972245</td>\n",
       "      <td>0.906970</td>\n",
       "    </tr>\n",
       "    <tr>\n",
       "      <th>cons.price.idx</th>\n",
       "      <td>0.000857</td>\n",
       "      <td>0.005312</td>\n",
       "      <td>0.127836</td>\n",
       "      <td>0.078889</td>\n",
       "      <td>-0.203130</td>\n",
       "      <td>0.775334</td>\n",
       "      <td>1.000000</td>\n",
       "      <td>0.058986</td>\n",
       "      <td>0.688230</td>\n",
       "      <td>0.522034</td>\n",
       "    </tr>\n",
       "    <tr>\n",
       "      <th>cons.conf.idx</th>\n",
       "      <td>0.129372</td>\n",
       "      <td>-0.008173</td>\n",
       "      <td>-0.013733</td>\n",
       "      <td>-0.091342</td>\n",
       "      <td>-0.050936</td>\n",
       "      <td>0.196041</td>\n",
       "      <td>0.058986</td>\n",
       "      <td>1.000000</td>\n",
       "      <td>0.277686</td>\n",
       "      <td>0.100513</td>\n",
       "    </tr>\n",
       "    <tr>\n",
       "      <th>euribor3m</th>\n",
       "      <td>0.010767</td>\n",
       "      <td>-0.032897</td>\n",
       "      <td>0.135133</td>\n",
       "      <td>0.296899</td>\n",
       "      <td>-0.454494</td>\n",
       "      <td>0.972245</td>\n",
       "      <td>0.688230</td>\n",
       "      <td>0.277686</td>\n",
       "      <td>1.000000</td>\n",
       "      <td>0.945154</td>\n",
       "    </tr>\n",
       "    <tr>\n",
       "      <th>nr.employed</th>\n",
       "      <td>-0.017725</td>\n",
       "      <td>-0.044703</td>\n",
       "      <td>0.144095</td>\n",
       "      <td>0.372605</td>\n",
       "      <td>-0.501333</td>\n",
       "      <td>0.906970</td>\n",
       "      <td>0.522034</td>\n",
       "      <td>0.100513</td>\n",
       "      <td>0.945154</td>\n",
       "      <td>1.000000</td>\n",
       "    </tr>\n",
       "  </tbody>\n",
       "</table>\n",
       "</div>"
      ],
      "text/plain": [
       "                     age  duration  campaign     pdays  previous  \\\n",
       "age             1.000000 -0.000866  0.004594 -0.034369  0.024365   \n",
       "duration       -0.000866  1.000000 -0.071699 -0.047577  0.020640   \n",
       "campaign        0.004594 -0.071699  1.000000  0.052584 -0.079141   \n",
       "pdays          -0.034369 -0.047577  0.052584  1.000000 -0.587514   \n",
       "previous        0.024365  0.020640 -0.079141 -0.587514  1.000000   \n",
       "emp.var.rate   -0.000371 -0.027968  0.150754  0.271004 -0.420489   \n",
       "cons.price.idx  0.000857  0.005312  0.127836  0.078889 -0.203130   \n",
       "cons.conf.idx   0.129372 -0.008173 -0.013733 -0.091342 -0.050936   \n",
       "euribor3m       0.010767 -0.032897  0.135133  0.296899 -0.454494   \n",
       "nr.employed    -0.017725 -0.044703  0.144095  0.372605 -0.501333   \n",
       "\n",
       "                emp.var.rate  cons.price.idx  cons.conf.idx  euribor3m  \\\n",
       "age                -0.000371        0.000857       0.129372   0.010767   \n",
       "duration           -0.027968        0.005312      -0.008173  -0.032897   \n",
       "campaign            0.150754        0.127836      -0.013733   0.135133   \n",
       "pdays               0.271004        0.078889      -0.091342   0.296899   \n",
       "previous           -0.420489       -0.203130      -0.050936  -0.454494   \n",
       "emp.var.rate        1.000000        0.775334       0.196041   0.972245   \n",
       "cons.price.idx      0.775334        1.000000       0.058986   0.688230   \n",
       "cons.conf.idx       0.196041        0.058986       1.000000   0.277686   \n",
       "euribor3m           0.972245        0.688230       0.277686   1.000000   \n",
       "nr.employed         0.906970        0.522034       0.100513   0.945154   \n",
       "\n",
       "                nr.employed  \n",
       "age               -0.017725  \n",
       "duration          -0.044703  \n",
       "campaign           0.144095  \n",
       "pdays              0.372605  \n",
       "previous          -0.501333  \n",
       "emp.var.rate       0.906970  \n",
       "cons.price.idx     0.522034  \n",
       "cons.conf.idx      0.100513  \n",
       "euribor3m          0.945154  \n",
       "nr.employed        1.000000  "
      ]
     },
     "execution_count": 13,
     "metadata": {},
     "output_type": "execute_result"
    }
   ],
   "source": [
    "data_num=data_num.drop('y',axis=1)\n",
    "corr= data_num.corr()\n",
    "corr"
   ]
  },
  {
   "cell_type": "code",
   "execution_count": 14,
   "id": "81e6be4e",
   "metadata": {},
   "outputs": [
    {
     "data": {
      "image/png": "[encoded data removed]",
      "text/plain": [
       "<Figure size 2160x1080 with 2 Axes>"
      ]
     },
     "metadata": {
      "needs_background": "light"
     },
     "output_type": "display_data"
    }
   ],
   "source": [
    "plt.figure(figsize=(30,15))\n",
    "sns.heatmap(corr[(corr>=0.9)|(corr <=-0.9)],\n",
    "           cmap=\"YlGnBu\", vmax=1.0, vmin=-1.0,\n",
    "           annot=True, annot_kws={'size':15})\n",
    "plt.title('corr',fontsize=15)\n",
    "plt.show()"
   ]
  },
  {
   "cell_type": "code",
   "execution_count": 15,
   "id": "d3edacbc",
   "metadata": {},
   "outputs": [],
   "source": [
    "deposit.drop(['euribor3m','emp.var.rate','nr.employed'], axis=1 ,inplace=True)"
   ]
  },
  {
   "cell_type": "code",
   "execution_count": 16,
   "id": "df9c3141",
   "metadata": {},
   "outputs": [
    {
     "data": {
      "text/plain": [
       "Index(['age', 'duration', 'campaign', 'pdays', 'previous', 'cons.price.idx',\n",
       "       'cons.conf.idx', 'y', 'job_blue-collar', 'job_entrepreneur',\n",
       "       'job_housemaid', 'job_management', 'job_retired', 'job_self-employed',\n",
       "       'job_services', 'job_student', 'job_technician', 'job_unemployed',\n",
       "       'job_unknown', 'marital_married', 'marital_single', 'marital_unknown',\n",
       "       'education_basic.6y', 'education_basic.9y', 'education_high.school',\n",
       "       'education_illiterate', 'education_professional.course',\n",
       "       'education_university.degree', 'education_unknown', 'default_unknown',\n",
       "       'default_yes', 'housing_unknown', 'housing_yes', 'loan_unknown',\n",
       "       'loan_yes', 'contact_telephone', 'month_aug', 'month_dec', 'month_jul',\n",
       "       'month_jun', 'month_mar', 'month_may', 'month_nov', 'month_oct',\n",
       "       'month_sep', 'day_of_week_mon', 'day_of_week_thu', 'day_of_week_tue',\n",
       "       'day_of_week_wed', 'poutcome_nonexistent', 'poutcome_success'],\n",
       "      dtype='object')"
      ]
     },
     "execution_count": 16,
     "metadata": {},
     "output_type": "execute_result"
    }
   ],
   "source": [
    "deposit.columns"
   ]
  },
  {
   "cell_type": "code",
   "execution_count": 17,
   "id": "2ed66bb1",
   "metadata": {},
   "outputs": [
    {
     "data": {
      "text/html": [
       "<div>\n",
       "<style scoped>\n",
       "    .dataframe tbody tr th:only-of-type {\n",
       "        vertical-align: middle;\n",
       "    }\n",
       "\n",
       "    .dataframe tbody tr th {\n",
       "        vertical-align: top;\n",
       "    }\n",
       "\n",
       "    .dataframe thead th {\n",
       "        text-align: right;\n",
       "    }\n",
       "</style>\n",
       "<table border=\"1\" class=\"dataframe\">\n",
       "  <thead>\n",
       "    <tr style=\"text-align: right;\">\n",
       "      <th></th>\n",
       "      <th>age</th>\n",
       "      <th>duration</th>\n",
       "      <th>campaign</th>\n",
       "      <th>pdays</th>\n",
       "      <th>previous</th>\n",
       "      <th>cons.price.idx</th>\n",
       "      <th>cons.conf.idx</th>\n",
       "      <th>y</th>\n",
       "      <th>job_blue-collar</th>\n",
       "      <th>job_entrepreneur</th>\n",
       "      <th>job_housemaid</th>\n",
       "      <th>job_management</th>\n",
       "      <th>job_retired</th>\n",
       "      <th>job_self-employed</th>\n",
       "      <th>job_services</th>\n",
       "      <th>job_student</th>\n",
       "      <th>job_technician</th>\n",
       "      <th>job_unemployed</th>\n",
       "      <th>job_unknown</th>\n",
       "      <th>marital_married</th>\n",
       "      <th>marital_single</th>\n",
       "      <th>marital_unknown</th>\n",
       "      <th>education_basic.6y</th>\n",
       "      <th>education_basic.9y</th>\n",
       "      <th>education_high.school</th>\n",
       "      <th>education_illiterate</th>\n",
       "      <th>education_professional.course</th>\n",
       "      <th>education_university.degree</th>\n",
       "      <th>education_unknown</th>\n",
       "      <th>default_unknown</th>\n",
       "      <th>default_yes</th>\n",
       "      <th>housing_unknown</th>\n",
       "      <th>housing_yes</th>\n",
       "      <th>loan_unknown</th>\n",
       "      <th>loan_yes</th>\n",
       "      <th>contact_telephone</th>\n",
       "      <th>month_aug</th>\n",
       "      <th>month_dec</th>\n",
       "      <th>month_jul</th>\n",
       "      <th>month_jun</th>\n",
       "      <th>month_mar</th>\n",
       "      <th>month_may</th>\n",
       "      <th>month_nov</th>\n",
       "      <th>month_oct</th>\n",
       "      <th>month_sep</th>\n",
       "      <th>day_of_week_mon</th>\n",
       "      <th>day_of_week_thu</th>\n",
       "      <th>day_of_week_tue</th>\n",
       "      <th>day_of_week_wed</th>\n",
       "      <th>poutcome_nonexistent</th>\n",
       "      <th>poutcome_success</th>\n",
       "    </tr>\n",
       "  </thead>\n",
       "  <tbody>\n",
       "    <tr>\n",
       "      <th>0</th>\n",
       "      <td>56</td>\n",
       "      <td>261</td>\n",
       "      <td>1</td>\n",
       "      <td>999</td>\n",
       "      <td>0</td>\n",
       "      <td>93.994000</td>\n",
       "      <td>-36.400000</td>\n",
       "      <td>0</td>\n",
       "      <td>0</td>\n",
       "      <td>0</td>\n",
       "      <td>1</td>\n",
       "      <td>0</td>\n",
       "      <td>0</td>\n",
       "      <td>0</td>\n",
       "      <td>0</td>\n",
       "      <td>0</td>\n",
       "      <td>0</td>\n",
       "      <td>0</td>\n",
       "      <td>0</td>\n",
       "      <td>1</td>\n",
       "      <td>0</td>\n",
       "      <td>0</td>\n",
       "      <td>0</td>\n",
       "      <td>0</td>\n",
       "      <td>0</td>\n",
       "      <td>0</td>\n",
       "      <td>0</td>\n",
       "      <td>0</td>\n",
       "      <td>0</td>\n",
       "      <td>0</td>\n",
       "      <td>0</td>\n",
       "      <td>0</td>\n",
       "      <td>0</td>\n",
       "      <td>0</td>\n",
       "      <td>0</td>\n",
       "      <td>1</td>\n",
       "      <td>0</td>\n",
       "      <td>0</td>\n",
       "      <td>0</td>\n",
       "      <td>0</td>\n",
       "      <td>0</td>\n",
       "      <td>1</td>\n",
       "      <td>0</td>\n",
       "      <td>0</td>\n",
       "      <td>0</td>\n",
       "      <td>1</td>\n",
       "      <td>0</td>\n",
       "      <td>0</td>\n",
       "      <td>0</td>\n",
       "      <td>1</td>\n",
       "      <td>0</td>\n",
       "    </tr>\n",
       "    <tr>\n",
       "      <th>1</th>\n",
       "      <td>57</td>\n",
       "      <td>149</td>\n",
       "      <td>1</td>\n",
       "      <td>999</td>\n",
       "      <td>0</td>\n",
       "      <td>93.994000</td>\n",
       "      <td>-36.400000</td>\n",
       "      <td>0</td>\n",
       "      <td>0</td>\n",
       "      <td>0</td>\n",
       "      <td>0</td>\n",
       "      <td>0</td>\n",
       "      <td>0</td>\n",
       "      <td>0</td>\n",
       "      <td>1</td>\n",
       "      <td>0</td>\n",
       "      <td>0</td>\n",
       "      <td>0</td>\n",
       "      <td>0</td>\n",
       "      <td>1</td>\n",
       "      <td>0</td>\n",
       "      <td>0</td>\n",
       "      <td>0</td>\n",
       "      <td>0</td>\n",
       "      <td>1</td>\n",
       "      <td>0</td>\n",
       "      <td>0</td>\n",
       "      <td>0</td>\n",
       "      <td>0</td>\n",
       "      <td>1</td>\n",
       "      <td>0</td>\n",
       "      <td>0</td>\n",
       "      <td>0</td>\n",
       "      <td>0</td>\n",
       "      <td>0</td>\n",
       "      <td>1</td>\n",
       "      <td>0</td>\n",
       "      <td>0</td>\n",
       "      <td>0</td>\n",
       "      <td>0</td>\n",
       "      <td>0</td>\n",
       "      <td>1</td>\n",
       "      <td>0</td>\n",
       "      <td>0</td>\n",
       "      <td>0</td>\n",
       "      <td>1</td>\n",
       "      <td>0</td>\n",
       "      <td>0</td>\n",
       "      <td>0</td>\n",
       "      <td>1</td>\n",
       "      <td>0</td>\n",
       "    </tr>\n",
       "    <tr>\n",
       "      <th>2</th>\n",
       "      <td>37</td>\n",
       "      <td>226</td>\n",
       "      <td>1</td>\n",
       "      <td>999</td>\n",
       "      <td>0</td>\n",
       "      <td>93.994000</td>\n",
       "      <td>-36.400000</td>\n",
       "      <td>0</td>\n",
       "      <td>0</td>\n",
       "      <td>0</td>\n",
       "      <td>0</td>\n",
       "      <td>0</td>\n",
       "      <td>0</td>\n",
       "      <td>0</td>\n",
       "      <td>1</td>\n",
       "      <td>0</td>\n",
       "      <td>0</td>\n",
       "      <td>0</td>\n",
       "      <td>0</td>\n",
       "      <td>1</td>\n",
       "      <td>0</td>\n",
       "      <td>0</td>\n",
       "      <td>0</td>\n",
       "      <td>0</td>\n",
       "      <td>1</td>\n",
       "      <td>0</td>\n",
       "      <td>0</td>\n",
       "      <td>0</td>\n",
       "      <td>0</td>\n",
       "      <td>0</td>\n",
       "      <td>0</td>\n",
       "      <td>0</td>\n",
       "      <td>1</td>\n",
       "      <td>0</td>\n",
       "      <td>0</td>\n",
       "      <td>1</td>\n",
       "      <td>0</td>\n",
       "      <td>0</td>\n",
       "      <td>0</td>\n",
       "      <td>0</td>\n",
       "      <td>0</td>\n",
       "      <td>1</td>\n",
       "      <td>0</td>\n",
       "      <td>0</td>\n",
       "      <td>0</td>\n",
       "      <td>1</td>\n",
       "      <td>0</td>\n",
       "      <td>0</td>\n",
       "      <td>0</td>\n",
       "      <td>1</td>\n",
       "      <td>0</td>\n",
       "    </tr>\n",
       "    <tr>\n",
       "      <th>3</th>\n",
       "      <td>40</td>\n",
       "      <td>151</td>\n",
       "      <td>1</td>\n",
       "      <td>999</td>\n",
       "      <td>0</td>\n",
       "      <td>93.994000</td>\n",
       "      <td>-36.400000</td>\n",
       "      <td>0</td>\n",
       "      <td>0</td>\n",
       "      <td>0</td>\n",
       "      <td>0</td>\n",
       "      <td>0</td>\n",
       "      <td>0</td>\n",
       "      <td>0</td>\n",
       "      <td>0</td>\n",
       "      <td>0</td>\n",
       "      <td>0</td>\n",
       "      <td>0</td>\n",
       "      <td>0</td>\n",
       "      <td>1</td>\n",
       "      <td>0</td>\n",
       "      <td>0</td>\n",
       "      <td>1</td>\n",
       "      <td>0</td>\n",
       "      <td>0</td>\n",
       "      <td>0</td>\n",
       "      <td>0</td>\n",
       "      <td>0</td>\n",
       "      <td>0</td>\n",
       "      <td>0</td>\n",
       "      <td>0</td>\n",
       "      <td>0</td>\n",
       "      <td>0</td>\n",
       "      <td>0</td>\n",
       "      <td>0</td>\n",
       "      <td>1</td>\n",
       "      <td>0</td>\n",
       "      <td>0</td>\n",
       "      <td>0</td>\n",
       "      <td>0</td>\n",
       "      <td>0</td>\n",
       "      <td>1</td>\n",
       "      <td>0</td>\n",
       "      <td>0</td>\n",
       "      <td>0</td>\n",
       "      <td>1</td>\n",
       "      <td>0</td>\n",
       "      <td>0</td>\n",
       "      <td>0</td>\n",
       "      <td>1</td>\n",
       "      <td>0</td>\n",
       "    </tr>\n",
       "    <tr>\n",
       "      <th>4</th>\n",
       "      <td>56</td>\n",
       "      <td>307</td>\n",
       "      <td>1</td>\n",
       "      <td>999</td>\n",
       "      <td>0</td>\n",
       "      <td>93.994000</td>\n",
       "      <td>-36.400000</td>\n",
       "      <td>0</td>\n",
       "      <td>0</td>\n",
       "      <td>0</td>\n",
       "      <td>0</td>\n",
       "      <td>0</td>\n",
       "      <td>0</td>\n",
       "      <td>0</td>\n",
       "      <td>1</td>\n",
       "      <td>0</td>\n",
       "      <td>0</td>\n",
       "      <td>0</td>\n",
       "      <td>0</td>\n",
       "      <td>1</td>\n",
       "      <td>0</td>\n",
       "      <td>0</td>\n",
       "      <td>0</td>\n",
       "      <td>0</td>\n",
       "      <td>1</td>\n",
       "      <td>0</td>\n",
       "      <td>0</td>\n",
       "      <td>0</td>\n",
       "      <td>0</td>\n",
       "      <td>0</td>\n",
       "      <td>0</td>\n",
       "      <td>0</td>\n",
       "      <td>0</td>\n",
       "      <td>0</td>\n",
       "      <td>1</td>\n",
       "      <td>1</td>\n",
       "      <td>0</td>\n",
       "      <td>0</td>\n",
       "      <td>0</td>\n",
       "      <td>0</td>\n",
       "      <td>0</td>\n",
       "      <td>1</td>\n",
       "      <td>0</td>\n",
       "      <td>0</td>\n",
       "      <td>0</td>\n",
       "      <td>1</td>\n",
       "      <td>0</td>\n",
       "      <td>0</td>\n",
       "      <td>0</td>\n",
       "      <td>1</td>\n",
       "      <td>0</td>\n",
       "    </tr>\n",
       "  </tbody>\n",
       "</table>\n",
       "</div>"
      ],
      "text/plain": [
       "   age  duration  campaign  pdays  previous  cons.price.idx  cons.conf.idx  y  \\\n",
       "0   56       261         1    999         0       93.994000     -36.400000  0   \n",
       "1   57       149         1    999         0       93.994000     -36.400000  0   \n",
       "2   37       226         1    999         0       93.994000     -36.400000  0   \n",
       "3   40       151         1    999         0       93.994000     -36.400000  0   \n",
       "4   56       307         1    999         0       93.994000     -36.400000  0   \n",
       "\n",
       "   job_blue-collar  job_entrepreneur  job_housemaid  job_management  \\\n",
       "0                0                 0              1               0   \n",
       "1                0                 0              0               0   \n",
       "2                0                 0              0               0   \n",
       "3                0                 0              0               0   \n",
       "4                0                 0              0               0   \n",
       "\n",
       "   job_retired  job_self-employed  job_services  job_student  job_technician  \\\n",
       "0            0                  0             0            0               0   \n",
       "1            0                  0             1            0               0   \n",
       "2            0                  0             1            0               0   \n",
       "3            0                  0             0            0               0   \n",
       "4            0                  0             1            0               0   \n",
       "\n",
       "   job_unemployed  job_unknown  marital_married  marital_single  \\\n",
       "0               0            0                1               0   \n",
       "1               0            0                1               0   \n",
       "2               0            0                1               0   \n",
       "3               0            0                1               0   \n",
       "4               0            0                1               0   \n",
       "\n",
       "   marital_unknown  education_basic.6y  education_basic.9y  \\\n",
       "0                0                   0                   0   \n",
       "1                0                   0                   0   \n",
       "2                0                   0                   0   \n",
       "3                0                   1                   0   \n",
       "4                0                   0                   0   \n",
       "\n",
       "   education_high.school  education_illiterate  education_professional.course  \\\n",
       "0                      0                     0                              0   \n",
       "1                      1                     0                              0   \n",
       "2                      1                     0                              0   \n",
       "3                      0                     0                              0   \n",
       "4                      1                     0                              0   \n",
       "\n",
       "   education_university.degree  education_unknown  default_unknown  \\\n",
       "0                            0                  0                0   \n",
       "1                            0                  0                1   \n",
       "2                            0                  0                0   \n",
       "3                            0                  0                0   \n",
       "4                            0                  0                0   \n",
       "\n",
       "   default_yes  housing_unknown  housing_yes  loan_unknown  loan_yes  \\\n",
       "0            0                0            0             0         0   \n",
       "1            0                0            0             0         0   \n",
       "2            0                0            1             0         0   \n",
       "3            0                0            0             0         0   \n",
       "4            0                0            0             0         1   \n",
       "\n",
       "   contact_telephone  month_aug  month_dec  month_jul  month_jun  month_mar  \\\n",
       "0                  1          0          0          0          0          0   \n",
       "1                  1          0          0          0          0          0   \n",
       "2                  1          0          0          0          0          0   \n",
       "3                  1          0          0          0          0          0   \n",
       "4                  1          0          0          0          0          0   \n",
       "\n",
       "   month_may  month_nov  month_oct  month_sep  day_of_week_mon  \\\n",
       "0          1          0          0          0                1   \n",
       "1          1          0          0          0                1   \n",
       "2          1          0          0          0                1   \n",
       "3          1          0          0          0                1   \n",
       "4          1          0          0          0                1   \n",
       "\n",
       "   day_of_week_thu  day_of_week_tue  day_of_week_wed  poutcome_nonexistent  \\\n",
       "0                0                0                0                     1   \n",
       "1                0                0                0                     1   \n",
       "2                0                0                0                     1   \n",
       "3                0                0                0                     1   \n",
       "4                0                0                0                     1   \n",
       "\n",
       "   poutcome_success  \n",
       "0                 0  \n",
       "1                 0  \n",
       "2                 0  \n",
       "3                 0  \n",
       "4                 0  "
      ]
     },
     "execution_count": 17,
     "metadata": {},
     "output_type": "execute_result"
    }
   ],
   "source": [
    "deposit.head()"
   ]
  },
  {
   "cell_type": "code",
   "execution_count": 18,
   "id": "823a47e4",
   "metadata": {},
   "outputs": [],
   "source": [
    "x=deposit.iloc[:, deposit.columns != 'y']\n",
    "y=deposit.iloc[:, deposit.columns == 'y']"
   ]
  },
  {
   "cell_type": "code",
   "execution_count": 19,
   "id": "f5c8bee8",
   "metadata": {},
   "outputs": [
    {
     "name": "stdout",
     "output_type": "stream",
     "text": [
      "x_train (28831, 50)\n",
      "x_test (12357, 50)\n",
      "y_train (28831, 1)\n",
      "y_test (12357, 1)\n"
     ]
    }
   ],
   "source": [
    "x_train,x_test,y_train,y_test=train_test_split(x,y,test_size=0.30, random_state=10)\n",
    "print('x_train',x_train.shape)\n",
    "print('x_test',x_test.shape)\n",
    "print('y_train',y_train.shape)\n",
    "print('y_test',y_test.shape)"
   ]
  },
  {
   "cell_type": "code",
   "execution_count": 20,
   "id": "090216e2",
   "metadata": {},
   "outputs": [
    {
     "name": "stderr",
     "output_type": "stream",
     "text": [
      "C:\\Users\\SAYYA\\anaconda3\\lib\\site-packages\\sklearn\\utils\\validation.py:993: DataConversionWarning: A column-vector y was passed when a 1d array was expected. Please change the shape of y to (n_samples, ), for example using ravel().\n",
      "  y = column_or_1d(y, warn=True)\n"
     ]
    },
    {
     "data": {
      "text/plain": [
       "SVC(kernel='linear')"
      ]
     },
     "execution_count": 20,
     "metadata": {},
     "output_type": "execute_result"
    }
   ],
   "source": [
    "svs=SVC(kernel=\"linear\")\n",
    "svs.fit(x_train,y_train)"
   ]
  },
  {
   "cell_type": "code",
   "execution_count": 21,
   "id": "026f6525",
   "metadata": {},
   "outputs": [],
   "source": [
    "y_pred=svs.predict(x_test)"
   ]
  },
  {
   "cell_type": "code",
   "execution_count": 22,
   "id": "6d4f6cb2",
   "metadata": {},
   "outputs": [
    {
     "data": {
      "image/png": "[encoded data removed]",
      "text/plain": [
       "<Figure size 576x360 with 1 Axes>"
      ]
     },
     "metadata": {
      "needs_background": "light"
     },
     "output_type": "display_data"
    }
   ],
   "source": [
    "cm = confusion_matrix(y_test,y_pred)\n",
    "conf_matrix=pd.DataFrame(data=cm,columns=['Predicted:0',\"predicted:1\"],index=[\"Actual:0\",\"Actual:1\"])\n",
    "plt.figure(figsize =(8,5))\n",
    "sns.heatmap(conf_matrix,annot=True, fmt='d',cmap=\"YlGnBu\",cbar=False)\n",
    "plt.show()"
   ]
  },
  {
   "cell_type": "code",
   "execution_count": 23,
   "id": "9ac2167f",
   "metadata": {},
   "outputs": [
    {
     "name": "stdout",
     "output_type": "stream",
     "text": [
      "              precision    recall  f1-score   support\n",
      "\n",
      "           0       0.92      0.96      0.94     10935\n",
      "           1       0.57      0.37      0.45      1422\n",
      "\n",
      "    accuracy                           0.90     12357\n",
      "   macro avg       0.75      0.67      0.70     12357\n",
      "weighted avg       0.88      0.90      0.89     12357\n",
      "\n"
     ]
    }
   ],
   "source": [
    "result= classification_report(y_test,y_pred)\n",
    "print(result)"
   ]
  },
  {
   "cell_type": "code",
   "execution_count": 24,
   "id": "a4c6ead5",
   "metadata": {},
   "outputs": [
    {
     "name": "stdout",
     "output_type": "stream",
     "text": [
      "kappa value: 0.3938140014885799\n"
     ]
    }
   ],
   "source": [
    "kappa= metrics.cohen_kappa_score(y_test,y_pred)\n",
    "print('kappa value:',kappa)"
   ]
  },
  {
   "cell_type": "code",
   "execution_count": 25,
   "id": "96bb7159",
   "metadata": {},
   "outputs": [
    {
     "data": {
      "image/png": "[encoded data removed]",
      "text/plain": [
       "<Figure size 576x360 with 1 Axes>"
      ]
     },
     "metadata": {
      "needs_background": "light"
     },
     "output_type": "display_data"
    }
   ],
   "source": [
    "plt.rcParams['figure.figsize']=(8,5)\n",
    "fpr ,tpr,thresholds = roc_curve(y_test,y_pred)\n",
    "plt.plot(fpr,tpr)\n",
    "plt.xlim([0.0,1.0])\n",
    "plt.ylim([0.0,1.0])\n",
    "plt.plot([0,1],[0,1],'r--')\n",
    "plt.text(x=0.05,y=0.8 , s=('AUC Score:', round(metrics.roc_auc_score(y_test,y_pred),4)))\n",
    "plt.xlabel('false')\n",
    "plt.ylabel(\"true\")\n",
    "plt.show()"
   ]
  },
  {
   "cell_type": "code",
   "execution_count": 26,
   "id": "926b2faf",
   "metadata": {},
   "outputs": [
    {
     "name": "stderr",
     "output_type": "stream",
     "text": [
      "C:\\Users\\SAYYA\\AppData\\Local\\Temp\\ipykernel_308\\1906204403.py:10: FutureWarning: The frame.append method is deprecated and will be removed from pandas in a future version. Use pandas.concat instead.\n",
      "  result_tabulation = result_tabulation.append(SVM_linear_metrics , ignore_index = True)\n"
     ]
    },
    {
     "data": {
      "text/html": [
       "<div>\n",
       "<style scoped>\n",
       "    .dataframe tbody tr th:only-of-type {\n",
       "        vertical-align: middle;\n",
       "    }\n",
       "\n",
       "    .dataframe tbody tr th {\n",
       "        vertical-align: top;\n",
       "    }\n",
       "\n",
       "    .dataframe thead th {\n",
       "        text-align: right;\n",
       "    }\n",
       "</style>\n",
       "<table border=\"1\" class=\"dataframe\">\n",
       "  <thead>\n",
       "    <tr style=\"text-align: right;\">\n",
       "      <th></th>\n",
       "      <th>Model</th>\n",
       "      <th>AUC Score</th>\n",
       "      <th>Precision Score</th>\n",
       "      <th>Recall Score</th>\n",
       "      <th>Accuracy Score</th>\n",
       "      <th>kappa scor</th>\n",
       "      <th>f1-score</th>\n",
       "    </tr>\n",
       "  </thead>\n",
       "  <tbody>\n",
       "    <tr>\n",
       "      <th>0</th>\n",
       "      <td>svs</td>\n",
       "      <td>0.666369</td>\n",
       "      <td>0.572678</td>\n",
       "      <td>0.368495</td>\n",
       "      <td>0.895687</td>\n",
       "      <td>0.393814</td>\n",
       "      <td>0.448438</td>\n",
       "    </tr>\n",
       "  </tbody>\n",
       "</table>\n",
       "</div>"
      ],
      "text/plain": [
       "  Model AUC Score Precision Score Recall Score Accuracy Score kappa scor  \\\n",
       "0   svs  0.666369        0.572678     0.368495       0.895687   0.393814   \n",
       "\n",
       "  f1-score  \n",
       "0 0.448438  "
      ]
     },
     "execution_count": 26,
     "metadata": {},
     "output_type": "execute_result"
    }
   ],
   "source": [
    "cols = ['Model', 'AUC Score', 'Precision Score', 'Recall Score','Accuracy Score','kappa scor','f1-score']\n",
    "result_tabulation = pd.DataFrame(columns = cols)\n",
    "SVM_linear_metrics = pd.Series({'Model': \"svs\",\n",
    "                     'AUC Score' : metrics.roc_auc_score(y_test, y_pred),\n",
    "                 'Precision Score': metrics.precision_score(y_test, y_pred),\n",
    "                 'Recall Score': metrics.recall_score(y_test, y_pred),\n",
    "                 'Accuracy Score': metrics.accuracy_score(y_test, y_pred),\n",
    "                 'kappa scor':metrics.cohen_kappa_score(y_test, y_pred),\n",
    "                  'f1-score':metrics.f1_score(y_test, y_pred)})\n",
    "result_tabulation = result_tabulation.append(SVM_linear_metrics , ignore_index = True)\n",
    "result_tabulation"
   ]
  },
  {
   "cell_type": "code",
   "execution_count": 27,
   "id": "63ba47fb",
   "metadata": {},
   "outputs": [
    {
     "name": "stderr",
     "output_type": "stream",
     "text": [
      "C:\\Users\\SAYYA\\anaconda3\\lib\\site-packages\\sklearn\\utils\\validation.py:993: DataConversionWarning: A column-vector y was passed when a 1d array was expected. Please change the shape of y to (n_samples, ), for example using ravel().\n",
      "  y = column_or_1d(y, warn=True)\n"
     ]
    },
    {
     "data": {
      "text/plain": [
       "SVC()"
      ]
     },
     "execution_count": 27,
     "metadata": {},
     "output_type": "execute_result"
    }
   ],
   "source": [
    "svs=SVC(kernel=\"rbf\")\n",
    "svs.fit(x_train,y_train)"
   ]
  },
  {
   "cell_type": "code",
   "execution_count": 28,
   "id": "fa738cef",
   "metadata": {},
   "outputs": [],
   "source": [
    "y_pred_gus=svs.predict(x_test)"
   ]
  },
  {
   "cell_type": "code",
   "execution_count": 29,
   "id": "58777f0a",
   "metadata": {},
   "outputs": [
    {
     "data": {
      "image/png": "[encoded data removed]",
      "text/plain": [
       "<Figure size 576x360 with 1 Axes>"
      ]
     },
     "metadata": {
      "needs_background": "light"
     },
     "output_type": "display_data"
    }
   ],
   "source": [
    "cm = confusion_matrix(y_test,y_pred_gus)\n",
    "conf_matrix=pd.DataFrame(data=cm,columns=['Predicted:0',\"predicted:1\"],index=[\"Actual:0\",\"Actual:1\"])\n",
    "plt.figure(figsize =(8,5))\n",
    "sns.heatmap(conf_matrix,annot=True, fmt='d',cmap=\"YlGnBu\",cbar=False)\n",
    "plt.show()"
   ]
  },
  {
   "cell_type": "code",
   "execution_count": 30,
   "id": "107aab82",
   "metadata": {},
   "outputs": [
    {
     "name": "stdout",
     "output_type": "stream",
     "text": [
      "              precision    recall  f1-score   support\n",
      "\n",
      "           0       0.91      0.98      0.95     10935\n",
      "           1       0.69      0.28      0.40      1422\n",
      "\n",
      "    accuracy                           0.90     12357\n",
      "   macro avg       0.80      0.63      0.67     12357\n",
      "weighted avg       0.89      0.90      0.88     12357\n",
      "\n"
     ]
    }
   ],
   "source": [
    "result= classification_report(y_test,y_pred_gus)\n",
    "print(result)"
   ]
  },
  {
   "cell_type": "code",
   "execution_count": 31,
   "id": "ccadf929",
   "metadata": {},
   "outputs": [
    {
     "name": "stdout",
     "output_type": "stream",
     "text": [
      "kappa value: 0.3572257338028345\n"
     ]
    }
   ],
   "source": [
    "kappa= metrics.cohen_kappa_score(y_test,y_pred_gus)\n",
    "print('kappa value:',kappa)"
   ]
  },
  {
   "cell_type": "code",
   "execution_count": 32,
   "id": "cbbd9614",
   "metadata": {},
   "outputs": [
    {
     "data": {
      "image/png": "[encoded data removed]",
      "text/plain": [
       "<Figure size 576x360 with 1 Axes>"
      ]
     },
     "metadata": {
      "needs_background": "light"
     },
     "output_type": "display_data"
    }
   ],
   "source": [
    "plt.rcParams['figure.figsize']=(8,5)\n",
    "fpr ,tpr,thresholds = roc_curve(y_test,y_pred_gus)\n",
    "plt.plot(fpr,tpr)\n",
    "plt.xlim([0.0,1.0])\n",
    "plt.ylim([0.0,1.0])\n",
    "plt.plot([0,1],[0,1],'r--')\n",
    "plt.text(x=0.05,y=0.8 , s=('AUC Score:', round(metrics.roc_auc_score(y_test,y_pred_gus),4)))\n",
    "plt.xlabel('false')\n",
    "plt.ylabel(\"true\")\n",
    "plt.show()"
   ]
  },
  {
   "cell_type": "code",
   "execution_count": 33,
   "id": "8eedda08",
   "metadata": {},
   "outputs": [
    {
     "name": "stderr",
     "output_type": "stream",
     "text": [
      "C:\\Users\\SAYYA\\AppData\\Local\\Temp\\ipykernel_308\\1203498064.py:8: FutureWarning: The frame.append method is deprecated and will be removed from pandas in a future version. Use pandas.concat instead.\n",
      "  result_tabulation = result_tabulation.append(SVM_gus , ignore_index = True)\n"
     ]
    },
    {
     "data": {
      "text/html": [
       "<div>\n",
       "<style scoped>\n",
       "    .dataframe tbody tr th:only-of-type {\n",
       "        vertical-align: middle;\n",
       "    }\n",
       "\n",
       "    .dataframe tbody tr th {\n",
       "        vertical-align: top;\n",
       "    }\n",
       "\n",
       "    .dataframe thead th {\n",
       "        text-align: right;\n",
       "    }\n",
       "</style>\n",
       "<table border=\"1\" class=\"dataframe\">\n",
       "  <thead>\n",
       "    <tr style=\"text-align: right;\">\n",
       "      <th></th>\n",
       "      <th>Model</th>\n",
       "      <th>AUC Score</th>\n",
       "      <th>Precision Score</th>\n",
       "      <th>Recall Score</th>\n",
       "      <th>Accuracy Score</th>\n",
       "      <th>kappa scor</th>\n",
       "      <th>f1-score</th>\n",
       "    </tr>\n",
       "  </thead>\n",
       "  <tbody>\n",
       "    <tr>\n",
       "      <th>0</th>\n",
       "      <td>svs</td>\n",
       "      <td>0.666369</td>\n",
       "      <td>0.572678</td>\n",
       "      <td>0.368495</td>\n",
       "      <td>0.895687</td>\n",
       "      <td>0.393814</td>\n",
       "      <td>0.448438</td>\n",
       "    </tr>\n",
       "    <tr>\n",
       "      <th>1</th>\n",
       "      <td>svs_gus</td>\n",
       "      <td>0.632937</td>\n",
       "      <td>0.686007</td>\n",
       "      <td>0.282700</td>\n",
       "      <td>0.902565</td>\n",
       "      <td>0.357226</td>\n",
       "      <td>0.400398</td>\n",
       "    </tr>\n",
       "  </tbody>\n",
       "</table>\n",
       "</div>"
      ],
      "text/plain": [
       "     Model AUC Score Precision Score Recall Score Accuracy Score kappa scor  \\\n",
       "0      svs  0.666369        0.572678     0.368495       0.895687   0.393814   \n",
       "1  svs_gus  0.632937        0.686007     0.282700       0.902565   0.357226   \n",
       "\n",
       "  f1-score  \n",
       "0 0.448438  \n",
       "1 0.400398  "
      ]
     },
     "execution_count": 33,
     "metadata": {},
     "output_type": "execute_result"
    }
   ],
   "source": [
    "\n",
    "SVM_gus = pd.Series({'Model': \"svs_gus\",\n",
    "                     'AUC Score' : metrics.roc_auc_score(y_test, y_pred_gus),\n",
    "                 'Precision Score': metrics.precision_score(y_test, y_pred_gus),\n",
    "                 'Recall Score': metrics.recall_score(y_test, y_pred_gus),\n",
    "                 'Accuracy Score': metrics.accuracy_score(y_test, y_pred_gus),\n",
    "                 'kappa scor':metrics.cohen_kappa_score(y_test, y_pred_gus),\n",
    "                  'f1-score':metrics.f1_score(y_test, y_pred_gus)})\n",
    "result_tabulation = result_tabulation.append(SVM_gus , ignore_index = True)\n",
    "result_tabulation"
   ]
  },
  {
   "cell_type": "code",
   "execution_count": 34,
   "id": "6031d641",
   "metadata": {},
   "outputs": [
    {
     "name": "stderr",
     "output_type": "stream",
     "text": [
      "C:\\Users\\SAYYA\\anaconda3\\lib\\site-packages\\sklearn\\utils\\validation.py:993: DataConversionWarning: A column-vector y was passed when a 1d array was expected. Please change the shape of y to (n_samples, ), for example using ravel().\n",
      "  y = column_or_1d(y, warn=True)\n"
     ]
    },
    {
     "data": {
      "text/plain": [
       "SVC(kernel='sigmoid')"
      ]
     },
     "execution_count": 34,
     "metadata": {},
     "output_type": "execute_result"
    }
   ],
   "source": [
    "svs=SVC(kernel=\"sigmoid\")\n",
    "svs.fit(x_train,y_train)"
   ]
  },
  {
   "cell_type": "code",
   "execution_count": 35,
   "id": "56de3166",
   "metadata": {},
   "outputs": [],
   "source": [
    "y_pred_sig=svs.predict(x_test)"
   ]
  },
  {
   "cell_type": "code",
   "execution_count": 36,
   "id": "615ce7ed",
   "metadata": {},
   "outputs": [
    {
     "data": {
      "image/png": "[encoded data removed]",
      "text/plain": [
       "<Figure size 576x360 with 1 Axes>"
      ]
     },
     "metadata": {
      "needs_background": "light"
     },
     "output_type": "display_data"
    }
   ],
   "source": [
    "cm = confusion_matrix(y_test,y_pred_sig)\n",
    "conf_matrix=pd.DataFrame(data=cm,columns=['Predicted:0',\"predicted:1\"],index=[\"Actual:0\",\"Actual:1\"])\n",
    "plt.figure(figsize =(8,5))\n",
    "sns.heatmap(conf_matrix,annot=True, fmt='d',cmap=\"YlGnBu\",cbar=False)\n",
    "plt.show()"
   ]
  },
  {
   "cell_type": "code",
   "execution_count": 37,
   "id": "5405a015",
   "metadata": {},
   "outputs": [
    {
     "name": "stdout",
     "output_type": "stream",
     "text": [
      "              precision    recall  f1-score   support\n",
      "\n",
      "           0       0.92      0.95      0.94     10935\n",
      "           1       0.50      0.41      0.45      1422\n",
      "\n",
      "    accuracy                           0.88     12357\n",
      "   macro avg       0.71      0.68      0.69     12357\n",
      "weighted avg       0.88      0.88      0.88     12357\n",
      "\n"
     ]
    }
   ],
   "source": [
    "result= classification_report(y_test,y_pred_sig)\n",
    "print(result)"
   ]
  },
  {
   "cell_type": "code",
   "execution_count": 38,
   "id": "8976c998",
   "metadata": {},
   "outputs": [
    {
     "name": "stdout",
     "output_type": "stream",
     "text": [
      "kappa value: 0.3816164769932523\n"
     ]
    }
   ],
   "source": [
    "kappa= metrics.cohen_kappa_score(y_test,y_pred_sig)\n",
    "print('kappa value:',kappa)"
   ]
  },
  {
   "cell_type": "code",
   "execution_count": 39,
   "id": "e0cb1d2c",
   "metadata": {},
   "outputs": [
    {
     "data": {
      "image/png": "[encoded data removed]",
      "text/plain": [
       "<Figure size 576x360 with 1 Axes>"
      ]
     },
     "metadata": {
      "needs_background": "light"
     },
     "output_type": "display_data"
    }
   ],
   "source": [
    "plt.rcParams['figure.figsize']=(8,5)\n",
    "fpr ,tpr,thresholds = roc_curve(y_test,y_pred_sig)\n",
    "plt.plot(fpr,tpr)\n",
    "plt.xlim([0.0,1.0])\n",
    "plt.ylim([0.0,1.0])\n",
    "plt.plot([0,1],[0,1],'r--')\n",
    "plt.text(x=0.05,y=0.8 , s=('AUC Score:', round(metrics.roc_auc_score(y_test,y_pred_sig),4)))\n",
    "plt.xlabel('false')\n",
    "plt.ylabel(\"true\")\n",
    "plt.show()"
   ]
  },
  {
   "cell_type": "code",
   "execution_count": 40,
   "id": "d885a0db",
   "metadata": {},
   "outputs": [
    {
     "name": "stderr",
     "output_type": "stream",
     "text": [
      "C:\\Users\\SAYYA\\AppData\\Local\\Temp\\ipykernel_308\\347613068.py:8: FutureWarning: The frame.append method is deprecated and will be removed from pandas in a future version. Use pandas.concat instead.\n",
      "  result_tabulation = result_tabulation.append(SVM_gus , ignore_index = True)\n"
     ]
    },
    {
     "data": {
      "text/html": [
       "<div>\n",
       "<style scoped>\n",
       "    .dataframe tbody tr th:only-of-type {\n",
       "        vertical-align: middle;\n",
       "    }\n",
       "\n",
       "    .dataframe tbody tr th {\n",
       "        vertical-align: top;\n",
       "    }\n",
       "\n",
       "    .dataframe thead th {\n",
       "        text-align: right;\n",
       "    }\n",
       "</style>\n",
       "<table border=\"1\" class=\"dataframe\">\n",
       "  <thead>\n",
       "    <tr style=\"text-align: right;\">\n",
       "      <th></th>\n",
       "      <th>Model</th>\n",
       "      <th>AUC Score</th>\n",
       "      <th>Precision Score</th>\n",
       "      <th>Recall Score</th>\n",
       "      <th>Accuracy Score</th>\n",
       "      <th>kappa scor</th>\n",
       "      <th>f1-score</th>\n",
       "    </tr>\n",
       "  </thead>\n",
       "  <tbody>\n",
       "    <tr>\n",
       "      <th>0</th>\n",
       "      <td>svs</td>\n",
       "      <td>0.666369</td>\n",
       "      <td>0.572678</td>\n",
       "      <td>0.368495</td>\n",
       "      <td>0.895687</td>\n",
       "      <td>0.393814</td>\n",
       "      <td>0.448438</td>\n",
       "    </tr>\n",
       "    <tr>\n",
       "      <th>1</th>\n",
       "      <td>svs_gus</td>\n",
       "      <td>0.632937</td>\n",
       "      <td>0.686007</td>\n",
       "      <td>0.282700</td>\n",
       "      <td>0.902565</td>\n",
       "      <td>0.357226</td>\n",
       "      <td>0.400398</td>\n",
       "    </tr>\n",
       "    <tr>\n",
       "      <th>2</th>\n",
       "      <td>svs_sig</td>\n",
       "      <td>0.675691</td>\n",
       "      <td>0.495271</td>\n",
       "      <td>0.405063</td>\n",
       "      <td>0.884033</td>\n",
       "      <td>0.381616</td>\n",
       "      <td>0.445648</td>\n",
       "    </tr>\n",
       "  </tbody>\n",
       "</table>\n",
       "</div>"
      ],
      "text/plain": [
       "     Model AUC Score Precision Score Recall Score Accuracy Score kappa scor  \\\n",
       "0      svs  0.666369        0.572678     0.368495       0.895687   0.393814   \n",
       "1  svs_gus  0.632937        0.686007     0.282700       0.902565   0.357226   \n",
       "2  svs_sig  0.675691        0.495271     0.405063       0.884033   0.381616   \n",
       "\n",
       "  f1-score  \n",
       "0 0.448438  \n",
       "1 0.400398  \n",
       "2 0.445648  "
      ]
     },
     "execution_count": 40,
     "metadata": {},
     "output_type": "execute_result"
    }
   ],
   "source": [
    "\n",
    "SVM_gus = pd.Series({'Model': \"svs_sig\",\n",
    "                     'AUC Score' : metrics.roc_auc_score(y_test, y_pred_sig),\n",
    "                 'Precision Score': metrics.precision_score(y_test, y_pred_sig),\n",
    "                 'Recall Score': metrics.recall_score(y_test, y_pred_sig),\n",
    "                 'Accuracy Score': metrics.accuracy_score(y_test, y_pred_sig),\n",
    "                 'kappa scor':metrics.cohen_kappa_score(y_test, y_pred_sig),\n",
    "                  'f1-score':metrics.f1_score(y_test, y_pred_sig)})\n",
    "result_tabulation = result_tabulation.append(SVM_gus , ignore_index = True)\n",
    "result_tabulation"
   ]
  },
  {
   "cell_type": "code",
   "execution_count": 41,
   "id": "ab28791a",
   "metadata": {},
   "outputs": [
    {
     "name": "stderr",
     "output_type": "stream",
     "text": [
      "C:\\Users\\SAYYA\\anaconda3\\lib\\site-packages\\sklearn\\utils\\validation.py:993: DataConversionWarning: A column-vector y was passed when a 1d array was expected. Please change the shape of y to (n_samples, ), for example using ravel().\n",
      "  y = column_or_1d(y, warn=True)\n"
     ]
    },
    {
     "data": {
      "text/plain": [
       "SVC(kernel='poly')"
      ]
     },
     "execution_count": 41,
     "metadata": {},
     "output_type": "execute_result"
    }
   ],
   "source": [
    "svs=SVC(kernel=\"poly\")\n",
    "svs.fit(x_train,y_train)"
   ]
  },
  {
   "cell_type": "code",
   "execution_count": 42,
   "id": "13179f4c",
   "metadata": {},
   "outputs": [],
   "source": [
    "y_pred_pol=svs.predict(x_test)"
   ]
  },
  {
   "cell_type": "code",
   "execution_count": 43,
   "id": "5790da05",
   "metadata": {},
   "outputs": [
    {
     "data": {
      "image/png": "[encoded data removed]",
      "text/plain": [
       "<Figure size 576x360 with 1 Axes>"
      ]
     },
     "metadata": {
      "needs_background": "light"
     },
     "output_type": "display_data"
    }
   ],
   "source": [
    "cm = confusion_matrix(y_test,y_pred_pol)\n",
    "conf_matrix=pd.DataFrame(data=cm,columns=['Predicted:0',\"predicted:1\"],index=[\"Actual:0\",\"Actual:1\"])\n",
    "plt.figure(figsize =(8,5))\n",
    "sns.heatmap(conf_matrix,annot=True, fmt='d',cmap=\"YlGnBu\",cbar=False)\n",
    "plt.show()"
   ]
  },
  {
   "cell_type": "code",
   "execution_count": 44,
   "id": "51e97afb",
   "metadata": {},
   "outputs": [
    {
     "name": "stdout",
     "output_type": "stream",
     "text": [
      "              precision    recall  f1-score   support\n",
      "\n",
      "           0       0.91      0.98      0.94     10935\n",
      "           1       0.64      0.21      0.32      1422\n",
      "\n",
      "    accuracy                           0.90     12357\n",
      "   macro avg       0.77      0.60      0.63     12357\n",
      "weighted avg       0.87      0.90      0.87     12357\n",
      "\n"
     ]
    }
   ],
   "source": [
    "result= classification_report(y_test,y_pred_pol)\n",
    "print(result)"
   ]
  },
  {
   "cell_type": "code",
   "execution_count": 45,
   "id": "8d6cf2ab",
   "metadata": {},
   "outputs": [
    {
     "name": "stdout",
     "output_type": "stream",
     "text": [
      "kappa value: 0.27671511818588124\n"
     ]
    }
   ],
   "source": [
    "kappa= metrics.cohen_kappa_score(y_test,y_pred_pol)\n",
    "print('kappa value:',kappa)"
   ]
  },
  {
   "cell_type": "code",
   "execution_count": 46,
   "id": "b088c3e4",
   "metadata": {},
   "outputs": [
    {
     "data": {
      "image/png": "[encoded data removed]",
      "text/plain": [
       "<Figure size 576x360 with 1 Axes>"
      ]
     },
     "metadata": {
      "needs_background": "light"
     },
     "output_type": "display_data"
    }
   ],
   "source": [
    "plt.rcParams['figure.figsize']=(8,5)\n",
    "fpr ,tpr,thresholds = roc_curve(y_test,y_pred_pol)\n",
    "plt.plot(fpr,tpr)\n",
    "plt.xlim([0.0,1.0])\n",
    "plt.ylim([0.0,1.0])\n",
    "plt.plot([0,1],[0,1],'r--')\n",
    "plt.text(x=0.05,y=0.8 , s=('AUC Score:', round(metrics.roc_auc_score(y_test,y_pred_pol),4)))\n",
    "plt.xlabel('false')\n",
    "plt.ylabel(\"true\")\n",
    "plt.show()"
   ]
  },
  {
   "cell_type": "code",
   "execution_count": 47,
   "id": "3f46d6ca",
   "metadata": {},
   "outputs": [
    {
     "name": "stderr",
     "output_type": "stream",
     "text": [
      "C:\\Users\\SAYYA\\AppData\\Local\\Temp\\ipykernel_308\\4098926608.py:8: FutureWarning: The frame.append method is deprecated and will be removed from pandas in a future version. Use pandas.concat instead.\n",
      "  result_tabulation = result_tabulation.append(SVM_gus , ignore_index = True)\n"
     ]
    },
    {
     "data": {
      "text/html": [
       "<div>\n",
       "<style scoped>\n",
       "    .dataframe tbody tr th:only-of-type {\n",
       "        vertical-align: middle;\n",
       "    }\n",
       "\n",
       "    .dataframe tbody tr th {\n",
       "        vertical-align: top;\n",
       "    }\n",
       "\n",
       "    .dataframe thead th {\n",
       "        text-align: right;\n",
       "    }\n",
       "</style>\n",
       "<table border=\"1\" class=\"dataframe\">\n",
       "  <thead>\n",
       "    <tr style=\"text-align: right;\">\n",
       "      <th></th>\n",
       "      <th>Model</th>\n",
       "      <th>AUC Score</th>\n",
       "      <th>Precision Score</th>\n",
       "      <th>Recall Score</th>\n",
       "      <th>Accuracy Score</th>\n",
       "      <th>kappa scor</th>\n",
       "      <th>f1-score</th>\n",
       "    </tr>\n",
       "  </thead>\n",
       "  <tbody>\n",
       "    <tr>\n",
       "      <th>0</th>\n",
       "      <td>svs</td>\n",
       "      <td>0.666369</td>\n",
       "      <td>0.572678</td>\n",
       "      <td>0.368495</td>\n",
       "      <td>0.895687</td>\n",
       "      <td>0.393814</td>\n",
       "      <td>0.448438</td>\n",
       "    </tr>\n",
       "    <tr>\n",
       "      <th>1</th>\n",
       "      <td>svs_gus</td>\n",
       "      <td>0.632937</td>\n",
       "      <td>0.686007</td>\n",
       "      <td>0.282700</td>\n",
       "      <td>0.902565</td>\n",
       "      <td>0.357226</td>\n",
       "      <td>0.400398</td>\n",
       "    </tr>\n",
       "    <tr>\n",
       "      <th>2</th>\n",
       "      <td>svs_sig</td>\n",
       "      <td>0.675691</td>\n",
       "      <td>0.495271</td>\n",
       "      <td>0.405063</td>\n",
       "      <td>0.884033</td>\n",
       "      <td>0.381616</td>\n",
       "      <td>0.445648</td>\n",
       "    </tr>\n",
       "    <tr>\n",
       "      <th>3</th>\n",
       "      <td>svs_pol</td>\n",
       "      <td>0.598278</td>\n",
       "      <td>0.635789</td>\n",
       "      <td>0.212377</td>\n",
       "      <td>0.895363</td>\n",
       "      <td>0.276715</td>\n",
       "      <td>0.318397</td>\n",
       "    </tr>\n",
       "  </tbody>\n",
       "</table>\n",
       "</div>"
      ],
      "text/plain": [
       "     Model AUC Score Precision Score Recall Score Accuracy Score kappa scor  \\\n",
       "0      svs  0.666369        0.572678     0.368495       0.895687   0.393814   \n",
       "1  svs_gus  0.632937        0.686007     0.282700       0.902565   0.357226   \n",
       "2  svs_sig  0.675691        0.495271     0.405063       0.884033   0.381616   \n",
       "3  svs_pol  0.598278        0.635789     0.212377       0.895363   0.276715   \n",
       "\n",
       "  f1-score  \n",
       "0 0.448438  \n",
       "1 0.400398  \n",
       "2 0.445648  \n",
       "3 0.318397  "
      ]
     },
     "execution_count": 47,
     "metadata": {},
     "output_type": "execute_result"
    }
   ],
   "source": [
    "\n",
    "SVM_gus = pd.Series({'Model': \"svs_pol\",\n",
    "                     'AUC Score' : metrics.roc_auc_score(y_test, y_pred_pol),\n",
    "                 'Precision Score': metrics.precision_score(y_test, y_pred_pol),\n",
    "                 'Recall Score': metrics.recall_score(y_test, y_pred_pol),\n",
    "                 'Accuracy Score': metrics.accuracy_score(y_test, y_pred_pol),\n",
    "                 'kappa scor':metrics.cohen_kappa_score(y_test, y_pred_pol),\n",
    "                  'f1-score':metrics.f1_score(y_test, y_pred_pol)})\n",
    "result_tabulation = result_tabulation.append(SVM_gus , ignore_index = True)\n",
    "result_tabulation"
   ]
  },
  {
   "cell_type": "code",
   "execution_count": 48,
   "id": "2ceed7ac",
   "metadata": {},
   "outputs": [
    {
     "name": "stderr",
     "output_type": "stream",
     "text": [
      "C:\\Users\\SAYYA\\anaconda3\\lib\\site-packages\\sklearn\\utils\\validation.py:993: DataConversionWarning: A column-vector y was passed when a 1d array was expected. Please change the shape of y to (n_samples, ), for example using ravel().\n",
      "  y = column_or_1d(y, warn=True)\n"
     ]
    },
    {
     "data": {
      "text/plain": [
       "SVC(degree=2, gamma='auto', kernel='poly')"
      ]
     },
     "execution_count": 48,
     "metadata": {},
     "output_type": "execute_result"
    }
   ],
   "source": [
    "svs_poly=SVC(kernel=\"poly\" , degree=2 ,gamma=\"auto\")\n",
    "svs_poly.fit(x_train,y_train)"
   ]
  },
  {
   "cell_type": "code",
   "execution_count": 49,
   "id": "67351085",
   "metadata": {},
   "outputs": [],
   "source": [
    "y_pred_polyd=svs.predict(x_test)"
   ]
  },
  {
   "cell_type": "code",
   "execution_count": 50,
   "id": "5b406a4b",
   "metadata": {},
   "outputs": [
    {
     "data": {
      "image/png": "[encoded data removed]",
      "text/plain": [
       "<Figure size 576x360 with 1 Axes>"
      ]
     },
     "metadata": {
      "needs_background": "light"
     },
     "output_type": "display_data"
    }
   ],
   "source": [
    "cm = confusion_matrix(y_test,y_pred_polyd)\n",
    "conf_matrix=pd.DataFrame(data=cm,columns=['Predicted:0',\"predicted:1\"],index=[\"Actual:0\",\"Actual:1\"])\n",
    "plt.figure(figsize =(8,5))\n",
    "sns.heatmap(conf_matrix,annot=True, fmt='d',cmap=\"YlGnBu\",cbar=False)\n",
    "plt.show()"
   ]
  },
  {
   "cell_type": "code",
   "execution_count": 51,
   "id": "58be2259",
   "metadata": {},
   "outputs": [
    {
     "name": "stdout",
     "output_type": "stream",
     "text": [
      "              precision    recall  f1-score   support\n",
      "\n",
      "           0       0.91      0.98      0.94     10935\n",
      "           1       0.64      0.21      0.32      1422\n",
      "\n",
      "    accuracy                           0.90     12357\n",
      "   macro avg       0.77      0.60      0.63     12357\n",
      "weighted avg       0.87      0.90      0.87     12357\n",
      "\n"
     ]
    }
   ],
   "source": [
    "result= classification_report(y_test,y_pred_polyd)\n",
    "print(result)"
   ]
  },
  {
   "cell_type": "code",
   "execution_count": 52,
   "id": "aad890b9",
   "metadata": {},
   "outputs": [
    {
     "name": "stdout",
     "output_type": "stream",
     "text": [
      "kappa value: 0.27671511818588124\n"
     ]
    }
   ],
   "source": [
    "kappa= metrics.cohen_kappa_score(y_test,y_pred_polyd)\n",
    "print('kappa value:',kappa)"
   ]
  },
  {
   "cell_type": "code",
   "execution_count": 53,
   "id": "9586229e",
   "metadata": {},
   "outputs": [
    {
     "data": {
      "image/png": "[encoded data removed]",
      "text/plain": [
       "<Figure size 576x360 with 1 Axes>"
      ]
     },
     "metadata": {
      "needs_background": "light"
     },
     "output_type": "display_data"
    }
   ],
   "source": [
    "plt.rcParams['figure.figsize']=(8,5)\n",
    "fpr ,tpr,thresholds = roc_curve(y_test,y_pred_polyd)\n",
    "plt.plot(fpr,tpr)\n",
    "plt.xlim([0.0,1.0])\n",
    "plt.ylim([0.0,1.0])\n",
    "plt.plot([0,1],[0,1],'r--')\n",
    "plt.text(x=0.05,y=0.8 , s=('AUC Score:', round(metrics.roc_auc_score(y_test,y_pred_polyd),4)))\n",
    "plt.xlabel('false')\n",
    "plt.ylabel(\"true\")\n",
    "plt.show()"
   ]
  },
  {
   "cell_type": "code",
   "execution_count": 54,
   "id": "cef3e4a1",
   "metadata": {},
   "outputs": [
    {
     "name": "stderr",
     "output_type": "stream",
     "text": [
      "C:\\Users\\SAYYA\\AppData\\Local\\Temp\\ipykernel_308\\2635927914.py:8: FutureWarning: The frame.append method is deprecated and will be removed from pandas in a future version. Use pandas.concat instead.\n",
      "  result_tabulation = result_tabulation.append(SVM_gus , ignore_index = True)\n"
     ]
    },
    {
     "data": {
      "text/html": [
       "<div>\n",
       "<style scoped>\n",
       "    .dataframe tbody tr th:only-of-type {\n",
       "        vertical-align: middle;\n",
       "    }\n",
       "\n",
       "    .dataframe tbody tr th {\n",
       "        vertical-align: top;\n",
       "    }\n",
       "\n",
       "    .dataframe thead th {\n",
       "        text-align: right;\n",
       "    }\n",
       "</style>\n",
       "<table border=\"1\" class=\"dataframe\">\n",
       "  <thead>\n",
       "    <tr style=\"text-align: right;\">\n",
       "      <th></th>\n",
       "      <th>Model</th>\n",
       "      <th>AUC Score</th>\n",
       "      <th>Precision Score</th>\n",
       "      <th>Recall Score</th>\n",
       "      <th>Accuracy Score</th>\n",
       "      <th>kappa scor</th>\n",
       "      <th>f1-score</th>\n",
       "    </tr>\n",
       "  </thead>\n",
       "  <tbody>\n",
       "    <tr>\n",
       "      <th>0</th>\n",
       "      <td>svs</td>\n",
       "      <td>0.666369</td>\n",
       "      <td>0.572678</td>\n",
       "      <td>0.368495</td>\n",
       "      <td>0.895687</td>\n",
       "      <td>0.393814</td>\n",
       "      <td>0.448438</td>\n",
       "    </tr>\n",
       "    <tr>\n",
       "      <th>1</th>\n",
       "      <td>svs_gus</td>\n",
       "      <td>0.632937</td>\n",
       "      <td>0.686007</td>\n",
       "      <td>0.282700</td>\n",
       "      <td>0.902565</td>\n",
       "      <td>0.357226</td>\n",
       "      <td>0.400398</td>\n",
       "    </tr>\n",
       "    <tr>\n",
       "      <th>2</th>\n",
       "      <td>svs_sig</td>\n",
       "      <td>0.675691</td>\n",
       "      <td>0.495271</td>\n",
       "      <td>0.405063</td>\n",
       "      <td>0.884033</td>\n",
       "      <td>0.381616</td>\n",
       "      <td>0.445648</td>\n",
       "    </tr>\n",
       "    <tr>\n",
       "      <th>3</th>\n",
       "      <td>svs_pol</td>\n",
       "      <td>0.598278</td>\n",
       "      <td>0.635789</td>\n",
       "      <td>0.212377</td>\n",
       "      <td>0.895363</td>\n",
       "      <td>0.276715</td>\n",
       "      <td>0.318397</td>\n",
       "    </tr>\n",
       "    <tr>\n",
       "      <th>4</th>\n",
       "      <td>svs_pold</td>\n",
       "      <td>0.598278</td>\n",
       "      <td>0.635789</td>\n",
       "      <td>0.212377</td>\n",
       "      <td>0.895363</td>\n",
       "      <td>0.276715</td>\n",
       "      <td>0.318397</td>\n",
       "    </tr>\n",
       "  </tbody>\n",
       "</table>\n",
       "</div>"
      ],
      "text/plain": [
       "      Model AUC Score Precision Score Recall Score Accuracy Score kappa scor  \\\n",
       "0       svs  0.666369        0.572678     0.368495       0.895687   0.393814   \n",
       "1   svs_gus  0.632937        0.686007     0.282700       0.902565   0.357226   \n",
       "2   svs_sig  0.675691        0.495271     0.405063       0.884033   0.381616   \n",
       "3   svs_pol  0.598278        0.635789     0.212377       0.895363   0.276715   \n",
       "4  svs_pold  0.598278        0.635789     0.212377       0.895363   0.276715   \n",
       "\n",
       "  f1-score  \n",
       "0 0.448438  \n",
       "1 0.400398  \n",
       "2 0.445648  \n",
       "3 0.318397  \n",
       "4 0.318397  "
      ]
     },
     "execution_count": 54,
     "metadata": {},
     "output_type": "execute_result"
    }
   ],
   "source": [
    "SVM_gus = pd.Series({'Model': \"svs_pold\",\n",
    "                     'AUC Score' : metrics.roc_auc_score(y_test, y_pred_polyd),\n",
    "                 'Precision Score': metrics.precision_score(y_test, y_pred_polyd),\n",
    "                 'Recall Score': metrics.recall_score(y_test, y_pred_polyd),\n",
    "                 'Accuracy Score': metrics.accuracy_score(y_test, y_pred_polyd),\n",
    "                 'kappa scor':metrics.cohen_kappa_score(y_test, y_pred_polyd),\n",
    "                  'f1-score':metrics.f1_score(y_test, y_pred_polyd)})\n",
    "result_tabulation = result_tabulation.append(SVM_gus , ignore_index = True)\n",
    "result_tabulation"
   ]
  },
  {
   "cell_type": "code",
   "execution_count": 55,
   "id": "b90e2e09",
   "metadata": {},
   "outputs": [],
   "source": [
    "param_grid={\n",
    "    \"degree\":[2,4],\n",
    "    \"gamma\":['auto','scale'],\n",
    "    \"C\":[0.5,1]\n",
    "}"
   ]
  },
  {
   "cell_type": "code",
   "execution_count": null,
   "id": "c1c9fd3b",
   "metadata": {},
   "outputs": [
    {
     "name": "stderr",
     "output_type": "stream",
     "text": [
      "C:\\Users\\SAYYA\\anaconda3\\lib\\site-packages\\sklearn\\utils\\validation.py:993: DataConversionWarning: A column-vector y was passed when a 1d array was expected. Please change the shape of y to (n_samples, ), for example using ravel().\n",
      "  y = column_or_1d(y, warn=True)\n",
      "C:\\Users\\SAYYA\\anaconda3\\lib\\site-packages\\sklearn\\utils\\validation.py:993: DataConversionWarning: A column-vector y was passed when a 1d array was expected. Please change the shape of y to (n_samples, ), for example using ravel().\n",
      "  y = column_or_1d(y, warn=True)\n",
      "C:\\Users\\SAYYA\\anaconda3\\lib\\site-packages\\sklearn\\utils\\validation.py:993: DataConversionWarning: A column-vector y was passed when a 1d array was expected. Please change the shape of y to (n_samples, ), for example using ravel().\n",
      "  y = column_or_1d(y, warn=True)\n",
      "C:\\Users\\SAYYA\\anaconda3\\lib\\site-packages\\sklearn\\utils\\validation.py:993: DataConversionWarning: A column-vector y was passed when a 1d array was expected. Please change the shape of y to (n_samples, ), for example using ravel().\n",
      "  y = column_or_1d(y, warn=True)\n"
     ]
    }
   ],
   "source": [
    "cv_rfc=GridSearchCV(estimator=svs_poly,param_grid=param_grid,scoring='accuracy',cv=5)\n",
    "cv_rfc.fit(x_train,y_train)\n"
   ]
  },
  {
   "cell_type": "code",
   "execution_count": null,
   "id": "b6e62992",
   "metadata": {},
   "outputs": [],
   "source": [
    "cv_rfc.best_params_"
   ]
  },
  {
   "cell_type": "code",
   "execution_count": null,
   "id": "c4e9e656",
   "metadata": {},
   "outputs": [],
   "source": [
    "svcbest=SVC(kernal='ploy',degree=2, gamma='auto',C=1)\n",
    "svcbest.fit(x_train,y_train)"
   ]
  },
  {
   "cell_type": "code",
   "execution_count": null,
   "id": "e3577dfb",
   "metadata": {},
   "outputs": [],
   "source": [
    "ypr= svcbest.predict(x_test)"
   ]
  },
  {
   "cell_type": "code",
   "execution_count": null,
   "id": "2710bd0c",
   "metadata": {},
   "outputs": [],
   "source": [
    "cm = confusion_matrix(y_test,ypr)\n",
    "conf_matrix=pd.DataFrame(data=cm,columns=['Predicted:0',\"predicted:1\"],index=[\"Actual:0\",\"Actual:1\"])\n",
    "plt.figure(figsize =(8,5))\n",
    "sns.heatmap(conf_matrix,annot=True, fmt='d',cmap=\"YlGnBu\",cbar=False)\n",
    "plt.show()"
   ]
  },
  {
   "cell_type": "code",
   "execution_count": null,
   "id": "cf6de82a",
   "metadata": {},
   "outputs": [],
   "source": [
    "result= classification_report(y_test,ypr)\n",
    "print(result)"
   ]
  },
  {
   "cell_type": "code",
   "execution_count": null,
   "id": "7d253c55",
   "metadata": {},
   "outputs": [],
   "source": [
    "kappa= metrics.cohen_kappa_score(y_test,ypr)\n",
    "print('kappa value:',kappa)"
   ]
  },
  {
   "cell_type": "code",
   "execution_count": null,
   "id": "1fe250ad",
   "metadata": {},
   "outputs": [],
   "source": [
    "plt.rcParams['figure.figsize']=(8,5)\n",
    "fpr ,tpr,thresholds = roc_curve(y_test,ypr)\n",
    "plt.plot(fpr,tpr)\n",
    "plt.xlim([0.0,1.0])\n",
    "plt.ylim([0.0,1.0])\n",
    "plt.plot([0,1],[0,1],'r--')\n",
    "plt.text(x=0.05,y=0.8 , s=('AUC Score:', round(metrics.roc_auc_score(y_test,ypr),4)))\n",
    "plt.xlabel('false')\n",
    "plt.ylabel(\"true\")\n",
    "plt.show()"
   ]
  },
  {
   "cell_type": "code",
   "execution_count": null,
   "id": "384db8f7",
   "metadata": {},
   "outputs": [],
   "source": [
    "SVM_gus = pd.Series({'Model': \"svs_pold_grid\",\n",
    "                     'AUC Score' : metrics.roc_auc_score(y_test, ypr),\n",
    "                 'Precision Score': metrics.precision_score(y_test, ypr),\n",
    "                 'Recall Score': metrics.recall_score(y_test, ypr),\n",
    "                 'Accuracy Score': metrics.accuracy_score(y_test, ypr),\n",
    "                 'kappa scor':metrics.cohen_kappa_score(y_test, ypr),\n",
    "                  'f1-score':metrics.f1_score(y_test, ypr)})\n",
    "result_tabulation = result_tabulation.append(SVM_gus , ignore_index = True)\n",
    "result_tabulation"
   ]
  },
  {
   "cell_type": "code",
   "execution_count": null,
   "id": "83983e1d",
   "metadata": {},
   "outputs": [],
   "source": []
  }
 ],
 "metadata": {
  "kernelspec": {
   "display_name": "Python 3 (ipykernel)",
   "language": "python",
   "name": "python3"
  },
  "language_info": {
   "codemirror_mode": {
    "name": "ipython",
    "version": 3
   },
   "file_extension": ".py",
   "mimetype": "text/x-python",
   "name": "python",
   "nbconvert_exporter": "python",
   "pygments_lexer": "ipython3",
   "version": "3.9.12"
  }
 },
 "nbformat": 4,
 "nbformat_minor": 5
}
